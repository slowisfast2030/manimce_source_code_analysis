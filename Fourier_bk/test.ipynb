{
 "cells": [
  {
   "cell_type": "code",
   "execution_count": 5,
   "metadata": {},
   "outputs": [],
   "source": [
    "import svgpathtools\n",
    "import numpy as np"
   ]
  },
  {
   "cell_type": "code",
   "execution_count": 2,
   "metadata": {},
   "outputs": [],
   "source": [
    "path_to_file = 'A.svg'\n",
    "path,_=svgpathtools.svg2paths(path_to_file)"
   ]
  },
  {
   "cell_type": "code",
   "execution_count": 3,
   "metadata": {},
   "outputs": [
    {
     "data": {
      "text/plain": [
       "[Path(Line(start=(62.868614+46.826283j), end=(151.31825+46.826283j)),\n",
       "      Line(start=(151.31825+46.826283j), end=(151.31825+109.69489j)),\n",
       "      Line(start=(151.31825+109.69489j), end=(62.868614+109.69489j)),\n",
       "      Line(start=(62.868614+109.69489j), end=(62.868614+46.826283j)))]"
      ]
     },
     "execution_count": 3,
     "metadata": {},
     "output_type": "execute_result"
    }
   ],
   "source": [
    "path"
   ]
  },
  {
   "cell_type": "code",
   "execution_count": 23,
   "metadata": {},
   "outputs": [
    {
     "data": {
      "text/plain": [
       "Path(Line(start=(62.868614+46.826283j), end=(151.31825+46.826283j)),\n",
       "     Line(start=(151.31825+46.826283j), end=(151.31825+109.69489j)),\n",
       "     Line(start=(151.31825+109.69489j), end=(62.868614+109.69489j)),\n",
       "     Line(start=(62.868614+109.69489j), end=(62.868614+46.826283j)))"
      ]
     },
     "execution_count": 23,
     "metadata": {},
     "output_type": "execute_result"
    }
   ],
   "source": [
    "path[0]"
   ]
  },
  {
   "cell_type": "code",
   "execution_count": 27,
   "metadata": {},
   "outputs": [
    {
     "data": {
      "text/plain": [
       "302.636486"
      ]
     },
     "execution_count": 27,
     "metadata": {},
     "output_type": "execute_result"
    }
   ],
   "source": [
    "((151.31825-62.868614)+(109.69489-46.826283))*2"
   ]
  },
  {
   "cell_type": "code",
   "execution_count": 24,
   "metadata": {},
   "outputs": [
    {
     "data": {
      "text/plain": [
       "302.636486"
      ]
     },
     "execution_count": 24,
     "metadata": {},
     "output_type": "execute_result"
    }
   ],
   "source": [
    "path[0].length()"
   ]
  },
  {
   "cell_type": "code",
   "execution_count": 42,
   "metadata": {},
   "outputs": [
    {
     "data": {
      "text/plain": [
       "array([191.16124   -224.86824j   , 129.16432005-180.93497713j,\n",
       "       105.22785324 -93.30791839j,  90.72532532-141.67572027j,\n",
       "        48.35844438-221.23150612j,  60.71617042-194.1063639j ,\n",
       "        86.41654405-107.05398484j, 107.75655021 -71.91411715j,\n",
       "       129.35665661-159.85734368j, 191.16124   -224.86824j   ])"
      ]
     },
     "execution_count": 42,
     "metadata": {},
     "output_type": "execute_result"
    }
   ],
   "source": [
    "path_to_file = 'A44.svg'\n",
    "path,_=svgpathtools.svg2paths(path_to_file)\n",
    "path = path[0]\n",
    "\n",
    "points=np.linspace(0,1,10,endpoint=True)\n",
    "pathvals=np.zeros_like(points,dtype=\"complex\")\n",
    "\n",
    "pathlength=path.length()\n",
    "for i in range(len(points)):\n",
    "    \"\"\"\n",
    "    先获取路径物理长度的百分比所对应的长度\n",
    "    然后再获取该百分比长度对应的百分比\n",
    "    \"\"\"\n",
    "    pathvals[i]=path.point(path.ilength(pathlength*points[i]))\n",
    "\n",
    "pathvals=np.conj(pathvals).copy()\n",
    "pathvals"
   ]
  },
  {
   "cell_type": "code",
   "execution_count": 64,
   "metadata": {},
   "outputs": [
    {
     "name": "stdout",
     "output_type": "stream",
     "text": [
      "pathlength is:  1014.1104089718626\n"
     ]
    }
   ],
   "source": [
    "path_to_file = 'A.svg'\n",
    "path,_=svgpathtools.svg2paths(path_to_file)\n",
    "path = path[0]\n",
    "#print(path)\n",
    "\n",
    "points=np.linspace(0,1,10,endpoint=True)\n",
    "pathvals=np.zeros_like(points,dtype=\"complex\")\n",
    "\n",
    "pathlength=path.length()\n",
    "print(\"pathlength is: \",pathlength)\n"
   ]
  },
  {
   "cell_type": "code",
   "execution_count": 71,
   "metadata": {},
   "outputs": [
    {
     "name": "stdout",
     "output_type": "stream",
     "text": [
      "Path(QuadraticBezier(start=(54.361005+115.9095j), control=(36.581047+158.95242j), end=(14.144435000000001+185.85426999999999j)),\n",
      "     Line(start=(14.144435000000001+185.85426999999999j), end=(10.334443000000002+183.51497999999998j)),\n",
      "     QuadraticBezier(start=(10.334443000000002+183.51497999999998j), control=(36.157714+141.87562j), end=(50.76268+63.509401j)),\n",
      "     Line(start=(50.76268+63.509401j), end=(69.177636+74.270135j)),\n",
      "     QuadraticBezier(start=(69.177636+74.270135j), control=(72.564294+76.141566j), end=(72.564294+77.77906999999999j)),\n",
      "     QuadraticBezier(start=(72.564294+77.77906999999999j), control=(72.564294+79.18264299999998j), end=(69.177636+79.88443099999999j)),\n",
      "     QuadraticBezier(start=(69.177636+79.88443099999999j), control=(68.330971+80.11836j), end=(65.57931+84.56300999999999j)),\n",
      "     QuadraticBezier(start=(65.57931+84.56300999999999j), control=(63.03931800000001+89.007662j), end=(61.134322000000004+95.32373999999999j)),\n",
      "     QuadraticBezier(start=(61.134322000000004+95.32373999999999j), control=(59.22932600000001+101.63982999999999j), end=(56.900999000000006+109.12555999999998j)),\n",
      "     Line(start=(56.900999000000006+109.12555999999998j), end=(99.869229+109.12555999999998j)),\n",
      "     Line(start=(99.869229+109.12555999999998j), end=(99.869229+85.732655j)),\n",
      "     QuadraticBezier(start=(99.869229+85.732655j), control=(99.869229+61.170109999999994j), end=(98.81090300000001+48.304016j)),\n",
      "     Line(start=(98.81090300000001+48.304016j), end=(121.24752000000001+58.362961999999996j)),\n",
      "     QuadraticBezier(start=(121.24752000000001+58.362961999999996j), control=(123.57584000000001+59.29867899999999j), end=(123.57584000000001+60.702253j)),\n",
      "     QuadraticBezier(start=(123.57584000000001+60.702253j), control=(123.57584000000001+62.105827j), end=(121.24752000000001+63.275470999999996j)),\n",
      "     Line(start=(121.24752000000001+63.275470999999996j), end=(115.32086000000001+66.78440599999999j)),\n",
      "     Line(start=(115.32086000000001+66.78440599999999j), end=(115.32086000000001+109.12556j)),\n",
      "     Line(start=(115.32086000000001+109.12556j), end=(159.13575+109.12556j)),\n",
      "     Line(start=(159.13575+109.12556j), end=(172.68239+91.34695199999999j)),\n",
      "     Line(start=(172.68239+91.34695199999999j), end=(187.92236+111.46484999999998j)),\n",
      "     QuadraticBezier(start=(187.92236+111.46484999999998j), control=(189.40402+113.33627999999999j), end=(189.40402+114.73984999999999j)),\n",
      "     QuadraticBezier(start=(189.40402+114.73984999999999j), control=(189.40402+115.9095j), end=(187.07568+115.9095j)),\n",
      "     Line(start=(187.07568+115.9095j), end=(115.32086000000001+115.9095j)),\n",
      "     Line(start=(115.32086000000001+115.9095j), end=(115.32086000000001+172.05246j)),\n",
      "     Line(start=(115.32086000000001+172.05246j), end=(147.70578+172.05246j)),\n",
      "     Line(start=(147.70578+172.05246j), end=(162.31074+153.57206j)),\n",
      "     Line(start=(162.31074+153.57206j), end=(178.18571+174.8596j)),\n",
      "     QuadraticBezier(start=(178.18571+174.8596j), control=(179.4557+176.73105j), end=(179.4557+177.90068j)),\n",
      "     QuadraticBezier(start=(179.4557+177.90068j), control=(179.4557+178.8364j), end=(176.91571000000002+178.8364j)),\n",
      "     Line(start=(176.91571000000002+178.8364j), end=(115.32086000000001+178.8364j)),\n",
      "     Line(start=(115.32086000000001+178.8364j), end=(115.32086000000001+240.35973j)),\n",
      "     Line(start=(115.32086000000001+240.35973j), end=(171.41240000000002+240.35973j)),\n",
      "     Line(start=(171.41240000000002+240.35973j), end=(185.59402000000003+222.58113j)),\n",
      "     Line(start=(185.59402000000003+222.58113j), end=(201.25732000000002+243.4008j)),\n",
      "     QuadraticBezier(start=(201.25732000000002+243.4008j), control=(202.73898000000003+245.27223j), end=(202.73898000000003+246.20794j)),\n",
      "     QuadraticBezier(start=(202.73898000000003+246.20794j), control=(202.73898000000003+247.37759j), end=(199.98732000000004+247.37759j)),\n",
      "     Line(start=(199.98732000000004+247.37759j), end=(28.326066+247.37759j)),\n",
      "     QuadraticBezier(start=(28.326066+247.37759j), control=(19.436087+247.37759j), end=(14.356100000000001+249.95082j)),\n",
      "     Line(start=(14.356100000000001+249.95082j), end=(6.7361184+239.19007j)),\n",
      "     QuadraticBezier(start=(6.7361184+239.19007j), control=(14.567767+240.35972999999998j), end=(23.669411+240.35972999999998j)),\n",
      "     Line(start=(23.669411+240.35972999999998j), end=(99.869229+240.35972999999998j)),\n",
      "     Line(start=(99.869229+240.35972999999998j), end=(99.869229+178.8364j)),\n",
      "     Line(start=(99.869229+178.8364j), end=(57.535997+178.8364j)),\n",
      "     QuadraticBezier(start=(57.535997+178.8364j), control=(48.857684000000006+178.8364j), end=(43.566031+181.17568j)),\n",
      "     Line(start=(43.566031+181.17568j), end=(35.946049+170.64887j)),\n",
      "     QuadraticBezier(start=(35.946049+170.64887j), control=(43.777696000000006+172.05246j), end=(52.879341000000004+172.05246j)),\n",
      "     Line(start=(52.879341000000004+172.05246j), end=(99.869229+172.05246j)),\n",
      "     Line(start=(99.869229+172.05246j), end=(99.869229+115.9095j)),\n",
      "     Line(start=(99.869229+115.9095j), end=(54.361005+115.9095j)))\n",
      "pathlength is:  1598.5541736134783\n"
     ]
    }
   ],
   "source": [
    "# 生\n",
    "\"\"\"\n",
    "宋体的生计算路径和为无穷\n",
    "可以手动修改svg的path标签\n",
    "将一些贝塞尔无线替换成直线\n",
    "\"\"\"\n",
    "\n",
    "path_to_file = 'A_.svg'\n",
    "#path_to_file = 'Asheng.svg'\n",
    "\n",
    "path,_=svgpathtools.svg2paths(path_to_file)\n",
    "path = path[0]\n",
    "print(path)\n",
    "\n",
    "points=np.linspace(0,1,10,endpoint=True)\n",
    "pathvals=np.zeros_like(points,dtype=\"complex\")\n",
    "\n",
    "pathlength=path.length()\n",
    "print(\"pathlength is: \",pathlength)\n"
   ]
  },
  {
   "cell_type": "code",
   "execution_count": 29,
   "metadata": {},
   "outputs": [
    {
     "data": {
      "text/plain": [
       "array([0.        , 0.11111111, 0.22222222, 0.33333333, 0.44444444,\n",
       "       0.55555556, 0.66666667, 0.77777778, 0.88888889, 1.        ])"
      ]
     },
     "execution_count": 29,
     "metadata": {},
     "output_type": "execute_result"
    }
   ],
   "source": [
    "points"
   ]
  },
  {
   "cell_type": "code",
   "execution_count": 21,
   "metadata": {},
   "outputs": [
    {
     "data": {
      "text/plain": [
       "array([0.+0.j, 0.+0.j, 0.+0.j, 0.+0.j, 0.+0.j, 0.+0.j, 0.+0.j, 0.+0.j,\n",
       "       0.+0.j, 0.+0.j])"
      ]
     },
     "execution_count": 21,
     "metadata": {},
     "output_type": "execute_result"
    }
   ],
   "source": [
    "pathvals"
   ]
  },
  {
   "cell_type": "code",
   "execution_count": 30,
   "metadata": {},
   "outputs": [
    {
     "data": {
      "text/plain": [
       "array([1.-2.j, 3.-4.j, 5.-6.j])"
      ]
     },
     "execution_count": 30,
     "metadata": {},
     "output_type": "execute_result"
    }
   ],
   "source": [
    "com_list = [1+2j, 3+4j, 5+6j]\n",
    "np.conj(com_list)"
   ]
  },
  {
   "cell_type": "code",
   "execution_count": 36,
   "metadata": {},
   "outputs": [
    {
     "data": {
      "text/plain": [
       "[0, 1, -1, 2, -2, 3, -3, 4, -4, 5, -5]"
      ]
     },
     "execution_count": 36,
     "metadata": {},
     "output_type": "execute_result"
    }
   ],
   "source": [
    "nvec = 11\n",
    "coefs=list(range(nvec // 2, -nvec// 2, -1))\n",
    "coefs.sort(key=abs)\n",
    "coefs"
   ]
  },
  {
   "cell_type": "code",
   "execution_count": 37,
   "metadata": {},
   "outputs": [
    {
     "data": {
      "text/plain": [
       "array([ 0,  1, -1,  2, -2,  3, -3,  4, -4,  5, -5])"
      ]
     },
     "execution_count": 37,
     "metadata": {},
     "output_type": "execute_result"
    }
   ],
   "source": [
    "np.array(coefs)"
   ]
  },
  {
   "cell_type": "code",
   "execution_count": 35,
   "metadata": {},
   "outputs": [
    {
     "name": "stdout",
     "output_type": "stream",
     "text": [
      "7.5\n"
     ]
    }
   ],
   "source": [
    "import numpy as np\n",
    "\n",
    "# 示例数据\n",
    "y = np.array([1, 2, 3, 4])\n",
    "x = np.array([0, 1, 2, 3])\n",
    "\n",
    "# 使用 np.trapz 计算积分\n",
    "integral = np.trapz(y, x)\n",
    "\n",
    "print(integral)\n"
   ]
  },
  {
   "cell_type": "code",
   "execution_count": null,
   "metadata": {},
   "outputs": [],
   "source": []
  }
 ],
 "metadata": {
  "kernelspec": {
   "display_name": "manim_latest",
   "language": "python",
   "name": "python3"
  },
  "language_info": {
   "codemirror_mode": {
    "name": "ipython",
    "version": 3
   },
   "file_extension": ".py",
   "mimetype": "text/x-python",
   "name": "python",
   "nbconvert_exporter": "python",
   "pygments_lexer": "ipython3",
   "version": "3.9.16"
  }
 },
 "nbformat": 4,
 "nbformat_minor": 2
}
