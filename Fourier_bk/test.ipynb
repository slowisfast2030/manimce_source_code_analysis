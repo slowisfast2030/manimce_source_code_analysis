{
 "cells": [
  {
   "cell_type": "code",
   "execution_count": 5,
   "metadata": {},
   "outputs": [],
   "source": [
    "import svgpathtools\n",
    "import numpy as np"
   ]
  },
  {
   "cell_type": "code",
   "execution_count": 2,
   "metadata": {},
   "outputs": [],
   "source": [
    "path_to_file = 'A.svg'\n",
    "path,_=svgpathtools.svg2paths(path_to_file)"
   ]
  },
  {
   "cell_type": "code",
   "execution_count": 3,
   "metadata": {},
   "outputs": [
    {
     "data": {
      "text/plain": [
       "[Path(Line(start=(62.868614+46.826283j), end=(151.31825+46.826283j)),\n",
       "      Line(start=(151.31825+46.826283j), end=(151.31825+109.69489j)),\n",
       "      Line(start=(151.31825+109.69489j), end=(62.868614+109.69489j)),\n",
       "      Line(start=(62.868614+109.69489j), end=(62.868614+46.826283j)))]"
      ]
     },
     "execution_count": 3,
     "metadata": {},
     "output_type": "execute_result"
    }
   ],
   "source": [
    "path"
   ]
  },
  {
   "cell_type": "code",
   "execution_count": 23,
   "metadata": {},
   "outputs": [
    {
     "data": {
      "text/plain": [
       "Path(Line(start=(62.868614+46.826283j), end=(151.31825+46.826283j)),\n",
       "     Line(start=(151.31825+46.826283j), end=(151.31825+109.69489j)),\n",
       "     Line(start=(151.31825+109.69489j), end=(62.868614+109.69489j)),\n",
       "     Line(start=(62.868614+109.69489j), end=(62.868614+46.826283j)))"
      ]
     },
     "execution_count": 23,
     "metadata": {},
     "output_type": "execute_result"
    }
   ],
   "source": [
    "path[0]"
   ]
  },
  {
   "cell_type": "code",
   "execution_count": 27,
   "metadata": {},
   "outputs": [
    {
     "data": {
      "text/plain": [
       "302.636486"
      ]
     },
     "execution_count": 27,
     "metadata": {},
     "output_type": "execute_result"
    }
   ],
   "source": [
    "((151.31825-62.868614)+(109.69489-46.826283))*2"
   ]
  },
  {
   "cell_type": "code",
   "execution_count": 24,
   "metadata": {},
   "outputs": [
    {
     "data": {
      "text/plain": [
       "302.636486"
      ]
     },
     "execution_count": 24,
     "metadata": {},
     "output_type": "execute_result"
    }
   ],
   "source": [
    "path[0].length()"
   ]
  },
  {
   "cell_type": "code",
   "execution_count": 42,
   "metadata": {},
   "outputs": [
    {
     "data": {
      "text/plain": [
       "array([191.16124   -224.86824j   , 129.16432005-180.93497713j,\n",
       "       105.22785324 -93.30791839j,  90.72532532-141.67572027j,\n",
       "        48.35844438-221.23150612j,  60.71617042-194.1063639j ,\n",
       "        86.41654405-107.05398484j, 107.75655021 -71.91411715j,\n",
       "       129.35665661-159.85734368j, 191.16124   -224.86824j   ])"
      ]
     },
     "execution_count": 42,
     "metadata": {},
     "output_type": "execute_result"
    }
   ],
   "source": [
    "path_to_file = 'A44.svg'\n",
    "path,_=svgpathtools.svg2paths(path_to_file)\n",
    "path = path[0]\n",
    "\n",
    "points=np.linspace(0,1,10,endpoint=True)\n",
    "pathvals=np.zeros_like(points,dtype=\"complex\")\n",
    "\n",
    "pathlength=path.length()\n",
    "for i in range(len(points)):\n",
    "    \"\"\"\n",
    "    先获取路径物理长度的百分比所对应的长度\n",
    "    然后再获取该百分比长度对应的百分比\n",
    "    \"\"\"\n",
    "    pathvals[i]=path.point(path.ilength(pathlength*points[i]))\n",
    "\n",
    "pathvals=np.conj(pathvals).copy()\n",
    "pathvals"
   ]
  },
  {
   "cell_type": "code",
   "execution_count": 64,
   "metadata": {},
   "outputs": [
    {
     "name": "stdout",
     "output_type": "stream",
     "text": [
      "pathlength is:  1014.1104089718626\n"
     ]
    }
   ],
   "source": [
    "path_to_file = 'A.svg'\n",
    "path,_=svgpathtools.svg2paths(path_to_file)\n",
    "path = path[0]\n",
    "#print(path)\n",
    "\n",
    "points=np.linspace(0,1,10,endpoint=True)\n",
    "pathvals=np.zeros_like(points,dtype=\"complex\")\n",
    "\n",
    "pathlength=path.length()\n",
    "print(\"pathlength is: \",pathlength)\n"
   ]
  },
  {
   "cell_type": "code",
   "execution_count": 69,
   "metadata": {},
   "outputs": [
    {
     "name": "stdout",
     "output_type": "stream",
     "text": [
      "Path(Line(start=(175.52847+202.5051j), end=(44.371821+202.5051j)),\n",
      "     Line(start=(44.371821+202.5051j), end=(44.371821+191.62075j)),\n",
      "     Line(start=(44.371821+191.62075j), end=(101.10289+191.62075j)),\n",
      "     Line(start=(101.10289+191.62075j), end=(101.10289+159.77122j)),\n",
      "     Line(start=(101.10289+159.77122j), end=(59.970926+159.77122j)),\n",
      "     Line(start=(59.970926+159.77122j), end=(59.970926+148.81382j)),\n",
      "     Line(start=(59.970926+148.81382j), end=(101.10289+148.81382j)),\n",
      "     Line(start=(101.10289+148.81382j), end=(101.10289+120.83591j)),\n",
      "     Line(start=(101.10289+120.83591j), end=(70.137506+120.83591j)),\n",
      "     QuadraticBezier(start=(70.137506+120.83591j), control=(65.481058+133.40039j), end=(48.71784100000001+150.20175j)),\n",
      "     Line(start=(48.71784100000001+150.20175j), end=(36.611073+144.0656j)),\n",
      "     QuadraticBezier(start=(36.611073+144.0656j), control=(63.308048+121.56639j), end=(65.71388+88.401985j)),\n",
      "     Line(start=(65.71388+88.401985j), end=(77.74304000000001+91.835306j)),\n",
      "     QuadraticBezier(start=(77.74304000000001+91.835306j), control=(77.74304000000001+97.606205j), end=(74.40591800000001+109.95155j)),\n",
      "     Line(start=(74.40591800000001+109.95155j), end=(101.10289+109.95155j)),\n",
      "     Line(start=(101.10289+109.95155j), end=(101.10289+78.028975j)),\n",
      "     Line(start=(101.10289+78.028975j), end=(113.20966+78.028975j)),\n",
      "     Line(start=(113.20966+78.028975j), end=(113.20966+109.95155j)),\n",
      "     Line(start=(113.20966+109.95155j), end=(165.36189000000002+109.95155j)),\n",
      "     Line(start=(165.36189000000002+109.95155j), end=(165.36189000000002+120.83591j)),\n",
      "     Line(start=(165.36189000000002+120.83591j), end=(113.20966000000001+120.83591j)),\n",
      "     Line(start=(113.20966000000001+120.83591j), end=(113.20966000000001+148.81382j)),\n",
      "     Line(start=(113.20966000000001+148.81382j), end=(157.91158000000001+148.81382j)),\n",
      "     Line(start=(157.91158000000001+148.81382j), end=(157.91158000000001+159.77122j)),\n",
      "     Line(start=(157.91158000000001+159.77122j), end=(113.20966000000001+159.77122j)),\n",
      "     Line(start=(113.20966000000001+159.77122j), end=(113.20966000000001+191.62075j)),\n",
      "     Line(start=(113.20966000000001+191.62075j), end=(175.52847000000003+191.62075j)),\n",
      "     Line(start=(175.52847000000003+191.62075j), end=(175.52847+202.5051j)))\n",
      "pathlength is:  979.7902436388428\n"
     ]
    }
   ],
   "source": [
    "# 生\n",
    "\"\"\"\n",
    "宋体的生计算路径和为无穷\n",
    "可以手动修改svg的path标签\n",
    "将一些贝塞尔无线替换成直线\n",
    "\"\"\"\n",
    "\n",
    "path_to_file = 'A_.svg'\n",
    "#path_to_file = 'Asheng.svg'\n",
    "\n",
    "path,_=svgpathtools.svg2paths(path_to_file)\n",
    "path = path[0]\n",
    "print(path)\n",
    "\n",
    "points=np.linspace(0,1,10,endpoint=True)\n",
    "pathvals=np.zeros_like(points,dtype=\"complex\")\n",
    "\n",
    "pathlength=path.length()\n",
    "print(\"pathlength is: \",pathlength)\n"
   ]
  },
  {
   "cell_type": "code",
   "execution_count": 29,
   "metadata": {},
   "outputs": [
    {
     "data": {
      "text/plain": [
       "array([0.        , 0.11111111, 0.22222222, 0.33333333, 0.44444444,\n",
       "       0.55555556, 0.66666667, 0.77777778, 0.88888889, 1.        ])"
      ]
     },
     "execution_count": 29,
     "metadata": {},
     "output_type": "execute_result"
    }
   ],
   "source": [
    "points"
   ]
  },
  {
   "cell_type": "code",
   "execution_count": 21,
   "metadata": {},
   "outputs": [
    {
     "data": {
      "text/plain": [
       "array([0.+0.j, 0.+0.j, 0.+0.j, 0.+0.j, 0.+0.j, 0.+0.j, 0.+0.j, 0.+0.j,\n",
       "       0.+0.j, 0.+0.j])"
      ]
     },
     "execution_count": 21,
     "metadata": {},
     "output_type": "execute_result"
    }
   ],
   "source": [
    "pathvals"
   ]
  },
  {
   "cell_type": "code",
   "execution_count": 30,
   "metadata": {},
   "outputs": [
    {
     "data": {
      "text/plain": [
       "array([1.-2.j, 3.-4.j, 5.-6.j])"
      ]
     },
     "execution_count": 30,
     "metadata": {},
     "output_type": "execute_result"
    }
   ],
   "source": [
    "com_list = [1+2j, 3+4j, 5+6j]\n",
    "np.conj(com_list)"
   ]
  },
  {
   "cell_type": "code",
   "execution_count": 36,
   "metadata": {},
   "outputs": [
    {
     "data": {
      "text/plain": [
       "[0, 1, -1, 2, -2, 3, -3, 4, -4, 5, -5]"
      ]
     },
     "execution_count": 36,
     "metadata": {},
     "output_type": "execute_result"
    }
   ],
   "source": [
    "nvec = 11\n",
    "coefs=list(range(nvec // 2, -nvec// 2, -1))\n",
    "coefs.sort(key=abs)\n",
    "coefs"
   ]
  },
  {
   "cell_type": "code",
   "execution_count": 37,
   "metadata": {},
   "outputs": [
    {
     "data": {
      "text/plain": [
       "array([ 0,  1, -1,  2, -2,  3, -3,  4, -4,  5, -5])"
      ]
     },
     "execution_count": 37,
     "metadata": {},
     "output_type": "execute_result"
    }
   ],
   "source": [
    "np.array(coefs)"
   ]
  },
  {
   "cell_type": "code",
   "execution_count": 35,
   "metadata": {},
   "outputs": [
    {
     "name": "stdout",
     "output_type": "stream",
     "text": [
      "7.5\n"
     ]
    }
   ],
   "source": [
    "import numpy as np\n",
    "\n",
    "# 示例数据\n",
    "y = np.array([1, 2, 3, 4])\n",
    "x = np.array([0, 1, 2, 3])\n",
    "\n",
    "# 使用 np.trapz 计算积分\n",
    "integral = np.trapz(y, x)\n",
    "\n",
    "print(integral)\n"
   ]
  },
  {
   "cell_type": "code",
   "execution_count": null,
   "metadata": {},
   "outputs": [],
   "source": []
  }
 ],
 "metadata": {
  "kernelspec": {
   "display_name": "manim_latest",
   "language": "python",
   "name": "python3"
  },
  "language_info": {
   "codemirror_mode": {
    "name": "ipython",
    "version": 3
   },
   "file_extension": ".py",
   "mimetype": "text/x-python",
   "name": "python",
   "nbconvert_exporter": "python",
   "pygments_lexer": "ipython3",
   "version": "3.9.16"
  }
 },
 "nbformat": 4,
 "nbformat_minor": 2
}
