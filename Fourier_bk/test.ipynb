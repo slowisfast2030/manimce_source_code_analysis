{
 "cells": [
  {
   "cell_type": "code",
   "execution_count": 5,
   "metadata": {},
   "outputs": [],
   "source": [
    "import svgpathtools\n",
    "import numpy as np"
   ]
  },
  {
   "cell_type": "code",
   "execution_count": 2,
   "metadata": {},
   "outputs": [],
   "source": [
    "path_to_file = 'A.svg'\n",
    "path,_=svgpathtools.svg2paths(path_to_file)"
   ]
  },
  {
   "cell_type": "code",
   "execution_count": 3,
   "metadata": {},
   "outputs": [
    {
     "data": {
      "text/plain": [
       "[Path(Line(start=(62.868614+46.826283j), end=(151.31825+46.826283j)),\n",
       "      Line(start=(151.31825+46.826283j), end=(151.31825+109.69489j)),\n",
       "      Line(start=(151.31825+109.69489j), end=(62.868614+109.69489j)),\n",
       "      Line(start=(62.868614+109.69489j), end=(62.868614+46.826283j)))]"
      ]
     },
     "execution_count": 3,
     "metadata": {},
     "output_type": "execute_result"
    }
   ],
   "source": [
    "path"
   ]
  },
  {
   "cell_type": "code",
   "execution_count": 23,
   "metadata": {},
   "outputs": [
    {
     "data": {
      "text/plain": [
       "Path(Line(start=(62.868614+46.826283j), end=(151.31825+46.826283j)),\n",
       "     Line(start=(151.31825+46.826283j), end=(151.31825+109.69489j)),\n",
       "     Line(start=(151.31825+109.69489j), end=(62.868614+109.69489j)),\n",
       "     Line(start=(62.868614+109.69489j), end=(62.868614+46.826283j)))"
      ]
     },
     "execution_count": 23,
     "metadata": {},
     "output_type": "execute_result"
    }
   ],
   "source": [
    "path[0]"
   ]
  },
  {
   "cell_type": "code",
   "execution_count": 27,
   "metadata": {},
   "outputs": [
    {
     "data": {
      "text/plain": [
       "302.636486"
      ]
     },
     "execution_count": 27,
     "metadata": {},
     "output_type": "execute_result"
    }
   ],
   "source": [
    "((151.31825-62.868614)+(109.69489-46.826283))*2"
   ]
  },
  {
   "cell_type": "code",
   "execution_count": 24,
   "metadata": {},
   "outputs": [
    {
     "data": {
      "text/plain": [
       "302.636486"
      ]
     },
     "execution_count": 24,
     "metadata": {},
     "output_type": "execute_result"
    }
   ],
   "source": [
    "path[0].length()"
   ]
  },
  {
   "cell_type": "code",
   "execution_count": 42,
   "metadata": {},
   "outputs": [
    {
     "data": {
      "text/plain": [
       "array([191.16124   -224.86824j   , 129.16432005-180.93497713j,\n",
       "       105.22785324 -93.30791839j,  90.72532532-141.67572027j,\n",
       "        48.35844438-221.23150612j,  60.71617042-194.1063639j ,\n",
       "        86.41654405-107.05398484j, 107.75655021 -71.91411715j,\n",
       "       129.35665661-159.85734368j, 191.16124   -224.86824j   ])"
      ]
     },
     "execution_count": 42,
     "metadata": {},
     "output_type": "execute_result"
    }
   ],
   "source": [
    "path_to_file = 'A44.svg'\n",
    "path,_=svgpathtools.svg2paths(path_to_file)\n",
    "path = path[0]\n",
    "\n",
    "points=np.linspace(0,1,10,endpoint=True)\n",
    "pathvals=np.zeros_like(points,dtype=\"complex\")\n",
    "\n",
    "pathlength=path.length()\n",
    "for i in range(len(points)):\n",
    "    \"\"\"\n",
    "    先获取路径物理长度的百分比所对应的长度\n",
    "    然后再获取该百分比长度对应的百分比\n",
    "    \"\"\"\n",
    "    pathvals[i]=path.point(path.ilength(pathlength*points[i]))\n",
    "\n",
    "pathvals=np.conj(pathvals).copy()\n",
    "pathvals"
   ]
  },
  {
   "cell_type": "code",
   "execution_count": 64,
   "metadata": {},
   "outputs": [
    {
     "name": "stdout",
     "output_type": "stream",
     "text": [
      "pathlength is:  1014.1104089718626\n"
     ]
    }
   ],
   "source": [
    "path_to_file = 'A.svg'\n",
    "path,_=svgpathtools.svg2paths(path_to_file)\n",
    "path = path[0]\n",
    "#print(path)\n",
    "\n",
    "points=np.linspace(0,1,10,endpoint=True)\n",
    "pathvals=np.zeros_like(points,dtype=\"complex\")\n",
    "\n",
    "pathlength=path.length()\n",
    "print(\"pathlength is: \",pathlength)\n"
   ]
  },
  {
   "cell_type": "code",
   "execution_count": 70,
   "metadata": {},
   "outputs": [
    {
     "name": "stdout",
     "output_type": "stream",
     "text": [
      "Path(QuadraticBezier(start=(54.361005+99.208244j), control=(36.581047+149.28497j), end=(14.144435+180.58294j)),\n",
      "     Line(start=(14.144435+180.58294j), end=(10.334443+177.86138j)),\n",
      "     QuadraticBezier(start=(10.334443+177.86138j), control=(36.157714+129.41758j), end=(50.76268+38.245262j)),\n",
      "     Line(start=(50.76268+38.245262j), end=(69.177636+50.76444599999999j)),\n",
      "     QuadraticBezier(start=(69.177636+50.76444599999999j), control=(72.564294+52.941694999999996j), end=(72.564294+54.846788999999994j)),\n",
      "     QuadraticBezier(start=(72.564294+54.846788999999994j), control=(72.564294+56.479724999999995j), end=(69.177636+57.296195j)),\n",
      "     QuadraticBezier(start=(69.177636+57.296195j), control=(68.330971+57.568351j), end=(65.57931+62.739317j)),\n",
      "     QuadraticBezier(start=(65.57931+62.739317j), control=(63.03931800000001+67.910285j), end=(61.134322000000004+75.258502j)),\n",
      "     QuadraticBezier(start=(61.134322000000004+75.258502j), control=(59.22932600000001+82.60671799999999j), end=(56.900999000000006+91.315716j)),\n",
      "     Line(start=(56.900999000000006+91.315716j), end=(99.869229+91.315716j)),\n",
      "     Line(start=(99.869229+91.315716j), end=(99.869229+64.100098j)),\n",
      "     QuadraticBezier(start=(99.869229+64.100098j), control=(99.869229+35.523700000000005j), end=(98.81090300000001+20.555111000000004j)),\n",
      "     Line(start=(98.81090300000001+20.555111000000004j), end=(121.24752000000001+32.257826j)),\n",
      "     QuadraticBezier(start=(121.24752000000001+32.257826j), control=(123.57584000000001+33.346451j), end=(123.57584000000001+34.979388j)),\n",
      "     QuadraticBezier(start=(123.57584000000001+34.979388j), control=(123.57584000000001+36.612325j), end=(121.24752000000001+37.973105000000004j)),\n",
      "     Line(start=(121.24752000000001+37.973105000000004j), end=(115.32086000000001+42.055448000000005j)),\n",
      "     Line(start=(115.32086000000001+42.055448000000005j), end=(115.32086000000001+91.31571600000001j)),\n",
      "     Line(start=(115.32086000000001+91.31571600000001j), end=(159.13575+91.31571600000001j)),\n",
      "     Line(start=(159.13575+91.31571600000001j), end=(172.68239+70.63184700000001j)),\n",
      "     Line(start=(172.68239+70.63184700000001j), end=(187.92236+94.037277j)),\n",
      "     QuadraticBezier(start=(187.92236+94.037277j), control=(189.40402+96.214527j), end=(189.40402+97.847465j)),\n",
      "     QuadraticBezier(start=(189.40402+97.847465j), control=(189.40402+99.208244j), end=(187.07568+99.208244j)),\n",
      "     Line(start=(187.07568+99.208244j), end=(115.32086000000001+99.208244j)),\n",
      "     Line(start=(115.32086000000001+99.208244j), end=(115.32086000000001+164.52573j)),\n",
      "     Line(start=(115.32086000000001+164.52573j), end=(147.70578+164.52573j)),\n",
      "     Line(start=(147.70578+164.52573j), end=(162.31074+143.02538j)),\n",
      "     Line(start=(162.31074+143.02538j), end=(178.18571+167.79160000000002j)),\n",
      "     QuadraticBezier(start=(178.18571+167.79160000000002j), control=(179.4557+169.96886j), end=(179.4557+171.32963j)),\n",
      "     QuadraticBezier(start=(179.4557+171.32963j), control=(179.4557+172.41826j), end=(176.91571000000002+172.41826j)),\n",
      "     Line(start=(176.91571000000002+172.41826j), end=(115.32086000000001+172.41826j)),\n",
      "     Line(start=(115.32086000000001+172.41826j), end=(115.32086000000001+243.99533000000002j)),\n",
      "     Line(start=(115.32086000000001+243.99533000000002j), end=(171.41240000000002+243.99533000000002j)),\n",
      "     Line(start=(171.41240000000002+243.99533000000002j), end=(185.59402000000003+223.31147j)),\n",
      "     Line(start=(185.59402000000003+223.31147j), end=(201.25732000000002+247.53336000000002j)),\n",
      "     QuadraticBezier(start=(201.25732000000002+247.53336000000002j), control=(202.73898000000003+249.71061j), end=(202.73898000000003+250.79922000000002j)),\n",
      "     QuadraticBezier(start=(202.73898000000003+250.79922000000002j), control=(202.73898000000003+252.16001000000003j), end=(199.98732000000004+252.16001000000003j)),\n",
      "     Line(start=(199.98732000000004+252.16001000000003j), end=(28.326066+252.16001000000003j)),\n",
      "     QuadraticBezier(start=(28.326066+252.16001000000003j), control=(19.436087+252.16001000000003j), end=(14.356100000000001+255.15374000000003j)),\n",
      "     Line(start=(14.356100000000001+255.15374000000003j), end=(6.736118400000001+242.63454000000002j)),\n",
      "     QuadraticBezier(start=(6.736118400000001+242.63454000000002j), control=(14.567767000000002+243.99533000000002j), end=(23.669411000000004+243.99533000000002j)),\n",
      "     Line(start=(23.669411000000004+243.99533000000002j), end=(99.869229+243.99533000000002j)),\n",
      "     Line(start=(99.869229+243.99533000000002j), end=(99.869229+172.41826j)),\n",
      "     Line(start=(99.869229+172.41826j), end=(57.535997+172.41826j)),\n",
      "     QuadraticBezier(start=(57.535997+172.41826j), control=(48.857684000000006+172.41826j), end=(43.566031+175.13981j)),\n",
      "     Line(start=(43.566031+175.13981j), end=(35.946049+162.89278000000002j)),\n",
      "     QuadraticBezier(start=(35.946049+162.89278000000002j), control=(43.777696000000006+164.52573j), end=(52.879341000000004+164.52573j)),\n",
      "     Line(start=(52.879341000000004+164.52573j), end=(99.869229+164.52573j)),\n",
      "     Line(start=(99.869229+164.52573j), end=(99.869229+99.208244j)),\n",
      "     Line(start=(99.869229+99.208244j), end=(54.361005+99.208244j)))\n",
      "pathlength is:  1710.8404747707045\n"
     ]
    }
   ],
   "source": [
    "# 生\n",
    "\"\"\"\n",
    "宋体的生计算路径和为无穷\n",
    "可以手动修改svg的path标签\n",
    "将一些贝塞尔无线替换成直线\n",
    "\"\"\"\n",
    "\n",
    "path_to_file = 'A_.svg'\n",
    "#path_to_file = 'Asheng.svg'\n",
    "\n",
    "path,_=svgpathtools.svg2paths(path_to_file)\n",
    "path = path[0]\n",
    "print(path)\n",
    "\n",
    "points=np.linspace(0,1,10,endpoint=True)\n",
    "pathvals=np.zeros_like(points,dtype=\"complex\")\n",
    "\n",
    "pathlength=path.length()\n",
    "print(\"pathlength is: \",pathlength)\n"
   ]
  },
  {
   "cell_type": "code",
   "execution_count": 29,
   "metadata": {},
   "outputs": [
    {
     "data": {
      "text/plain": [
       "array([0.        , 0.11111111, 0.22222222, 0.33333333, 0.44444444,\n",
       "       0.55555556, 0.66666667, 0.77777778, 0.88888889, 1.        ])"
      ]
     },
     "execution_count": 29,
     "metadata": {},
     "output_type": "execute_result"
    }
   ],
   "source": [
    "points"
   ]
  },
  {
   "cell_type": "code",
   "execution_count": 21,
   "metadata": {},
   "outputs": [
    {
     "data": {
      "text/plain": [
       "array([0.+0.j, 0.+0.j, 0.+0.j, 0.+0.j, 0.+0.j, 0.+0.j, 0.+0.j, 0.+0.j,\n",
       "       0.+0.j, 0.+0.j])"
      ]
     },
     "execution_count": 21,
     "metadata": {},
     "output_type": "execute_result"
    }
   ],
   "source": [
    "pathvals"
   ]
  },
  {
   "cell_type": "code",
   "execution_count": 30,
   "metadata": {},
   "outputs": [
    {
     "data": {
      "text/plain": [
       "array([1.-2.j, 3.-4.j, 5.-6.j])"
      ]
     },
     "execution_count": 30,
     "metadata": {},
     "output_type": "execute_result"
    }
   ],
   "source": [
    "com_list = [1+2j, 3+4j, 5+6j]\n",
    "np.conj(com_list)"
   ]
  },
  {
   "cell_type": "code",
   "execution_count": 36,
   "metadata": {},
   "outputs": [
    {
     "data": {
      "text/plain": [
       "[0, 1, -1, 2, -2, 3, -3, 4, -4, 5, -5]"
      ]
     },
     "execution_count": 36,
     "metadata": {},
     "output_type": "execute_result"
    }
   ],
   "source": [
    "nvec = 11\n",
    "coefs=list(range(nvec // 2, -nvec// 2, -1))\n",
    "coefs.sort(key=abs)\n",
    "coefs"
   ]
  },
  {
   "cell_type": "code",
   "execution_count": 37,
   "metadata": {},
   "outputs": [
    {
     "data": {
      "text/plain": [
       "array([ 0,  1, -1,  2, -2,  3, -3,  4, -4,  5, -5])"
      ]
     },
     "execution_count": 37,
     "metadata": {},
     "output_type": "execute_result"
    }
   ],
   "source": [
    "np.array(coefs)"
   ]
  },
  {
   "cell_type": "code",
   "execution_count": 35,
   "metadata": {},
   "outputs": [
    {
     "name": "stdout",
     "output_type": "stream",
     "text": [
      "7.5\n"
     ]
    }
   ],
   "source": [
    "import numpy as np\n",
    "\n",
    "# 示例数据\n",
    "y = np.array([1, 2, 3, 4])\n",
    "x = np.array([0, 1, 2, 3])\n",
    "\n",
    "# 使用 np.trapz 计算积分\n",
    "integral = np.trapz(y, x)\n",
    "\n",
    "print(integral)\n"
   ]
  },
  {
   "cell_type": "code",
   "execution_count": null,
   "metadata": {},
   "outputs": [],
   "source": []
  }
 ],
 "metadata": {
  "kernelspec": {
   "display_name": "manim_latest",
   "language": "python",
   "name": "python3"
  },
  "language_info": {
   "codemirror_mode": {
    "name": "ipython",
    "version": 3
   },
   "file_extension": ".py",
   "mimetype": "text/x-python",
   "name": "python",
   "nbconvert_exporter": "python",
   "pygments_lexer": "ipython3",
   "version": "3.9.16"
  }
 },
 "nbformat": 4,
 "nbformat_minor": 2
}
