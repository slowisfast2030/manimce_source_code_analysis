{
 "cells": [
  {
   "cell_type": "code",
   "execution_count": 5,
   "metadata": {},
   "outputs": [],
   "source": [
    "import svgpathtools\n",
    "import numpy as np"
   ]
  },
  {
   "cell_type": "code",
   "execution_count": 2,
   "metadata": {},
   "outputs": [],
   "source": [
    "path_to_file = 'A.svg'\n",
    "path,_=svgpathtools.svg2paths(path_to_file)"
   ]
  },
  {
   "cell_type": "code",
   "execution_count": 3,
   "metadata": {},
   "outputs": [
    {
     "data": {
      "text/plain": [
       "[Path(Line(start=(62.868614+46.826283j), end=(151.31825+46.826283j)),\n",
       "      Line(start=(151.31825+46.826283j), end=(151.31825+109.69489j)),\n",
       "      Line(start=(151.31825+109.69489j), end=(62.868614+109.69489j)),\n",
       "      Line(start=(62.868614+109.69489j), end=(62.868614+46.826283j)))]"
      ]
     },
     "execution_count": 3,
     "metadata": {},
     "output_type": "execute_result"
    }
   ],
   "source": [
    "path"
   ]
  },
  {
   "cell_type": "code",
   "execution_count": 23,
   "metadata": {},
   "outputs": [
    {
     "data": {
      "text/plain": [
       "Path(Line(start=(62.868614+46.826283j), end=(151.31825+46.826283j)),\n",
       "     Line(start=(151.31825+46.826283j), end=(151.31825+109.69489j)),\n",
       "     Line(start=(151.31825+109.69489j), end=(62.868614+109.69489j)),\n",
       "     Line(start=(62.868614+109.69489j), end=(62.868614+46.826283j)))"
      ]
     },
     "execution_count": 23,
     "metadata": {},
     "output_type": "execute_result"
    }
   ],
   "source": [
    "path[0]"
   ]
  },
  {
   "cell_type": "code",
   "execution_count": 27,
   "metadata": {},
   "outputs": [
    {
     "data": {
      "text/plain": [
       "302.636486"
      ]
     },
     "execution_count": 27,
     "metadata": {},
     "output_type": "execute_result"
    }
   ],
   "source": [
    "((151.31825-62.868614)+(109.69489-46.826283))*2"
   ]
  },
  {
   "cell_type": "code",
   "execution_count": 24,
   "metadata": {},
   "outputs": [
    {
     "data": {
      "text/plain": [
       "302.636486"
      ]
     },
     "execution_count": 24,
     "metadata": {},
     "output_type": "execute_result"
    }
   ],
   "source": [
    "path[0].length()"
   ]
  },
  {
   "cell_type": "code",
   "execution_count": 42,
   "metadata": {},
   "outputs": [
    {
     "data": {
      "text/plain": [
       "array([191.16124   -224.86824j   , 129.16432005-180.93497713j,\n",
       "       105.22785324 -93.30791839j,  90.72532532-141.67572027j,\n",
       "        48.35844438-221.23150612j,  60.71617042-194.1063639j ,\n",
       "        86.41654405-107.05398484j, 107.75655021 -71.91411715j,\n",
       "       129.35665661-159.85734368j, 191.16124   -224.86824j   ])"
      ]
     },
     "execution_count": 42,
     "metadata": {},
     "output_type": "execute_result"
    }
   ],
   "source": [
    "path_to_file = 'A44.svg'\n",
    "path,_=svgpathtools.svg2paths(path_to_file)\n",
    "path = path[0]\n",
    "\n",
    "points=np.linspace(0,1,10,endpoint=True)\n",
    "pathvals=np.zeros_like(points,dtype=\"complex\")\n",
    "\n",
    "pathlength=path.length()\n",
    "for i in range(len(points)):\n",
    "    \"\"\"\n",
    "    先获取路径物理长度的百分比所对应的长度\n",
    "    然后再获取该百分比长度对应的百分比\n",
    "    \"\"\"\n",
    "    pathvals[i]=path.point(path.ilength(pathlength*points[i]))\n",
    "\n",
    "pathvals=np.conj(pathvals).copy()\n",
    "pathvals"
   ]
  },
  {
   "cell_type": "code",
   "execution_count": 64,
   "metadata": {},
   "outputs": [
    {
     "name": "stdout",
     "output_type": "stream",
     "text": [
      "pathlength is:  1014.1104089718626\n"
     ]
    }
   ],
   "source": [
    "path_to_file = 'A.svg'\n",
    "path,_=svgpathtools.svg2paths(path_to_file)\n",
    "path = path[0]\n",
    "#print(path)\n",
    "\n",
    "points=np.linspace(0,1,10,endpoint=True)\n",
    "pathvals=np.zeros_like(points,dtype=\"complex\")\n",
    "\n",
    "pathlength=path.length()\n",
    "print(\"pathlength is: \",pathlength)\n"
   ]
  },
  {
   "cell_type": "code",
   "execution_count": 68,
   "metadata": {},
   "outputs": [
    {
     "name": "stdout",
     "output_type": "stream",
     "text": [
      "Path(QuadraticBezier(start=(191.59453+217.81218j), control=(191.59453+219.32192j), end=(188.2908+220.07680000000002j)),\n",
      "     QuadraticBezier(start=(188.2908+220.07680000000002j), control=(185.17059999999998+220.83166000000003j), end=(181.31624+220.83166000000003j)),\n",
      "     Line(start=(181.31624+220.83166000000003j), end=(108.63401999999999+220.83166000000003j)),\n",
      "     QuadraticBezier(start=(108.63401999999999+220.83166000000003j), control=(82.93828599999999+220.83166000000003j), end=(58.52733899999999+220.83166000000003j)),\n",
      "     QuadraticBezier(start=(58.52733899999999+220.83166000000003j), control=(34.11639099999999+220.83166000000003j), end=(31.913900999999992+221.20909000000003j)),\n",
      "     QuadraticBezier(start=(31.913900999999992+221.20909000000003j), control=(29.89494999999999+221.58653000000004j), end=(28.05953999999999+221.96397000000002j)),\n",
      "     QuadraticBezier(start=(28.05953999999999+221.96397000000002j), control=(26.77475299999999+221.96397000000002j), end=(25.489966999999993+221.02038000000002j)),\n",
      "     QuadraticBezier(start=(25.489966999999993+221.02038000000002j), control=(24.20517999999999+220.26551j), end=(22.736851999999992+218.75577j)),\n",
      "     QuadraticBezier(start=(22.736851999999992+218.75577j), control=(21.268523999999992+217.24603000000002j), end=(20.71790199999999+216.30244000000002j)),\n",
      "     QuadraticBezier(start=(20.71790199999999+216.30244000000002j), control=(20.53436099999999+216.11372000000003j), end=(20.35081999999999+215.35885000000002j)),\n",
      "     QuadraticBezier(start=(20.35081999999999+215.35885000000002j), control=(21.81914799999999+215.54758j), end=(22.736851999999992+215.54758j)),\n",
      "     QuadraticBezier(start=(22.736851999999992+215.54758j), control=(29.16078599999999+216.30244000000002j), end=(30.81265399999999+216.30244000000002j)),\n",
      "     Line(start=(30.81265399999999+216.30244000000002j), end=(99.273426+216.30244000000002j)),\n",
      "     Line(start=(99.273426+216.30244000000002j), end=(99.640516+167.23589j)),\n",
      "     Line(start=(99.640516+167.23589j), end=(82.754745+167.23589j)),\n",
      "     QuadraticBezier(start=(82.754745+167.23589j), control=(76.330812+167.23589j), end=(70.090419+167.23589j)),\n",
      "     QuadraticBezier(start=(70.090419+167.23589j), control=(64.03356699999999+167.23589j), end=(61.83107699999999+167.61332000000002j)),\n",
      "     QuadraticBezier(start=(61.83107699999999+167.61332000000002j), control=(59.628584999999994+167.99077000000003j), end=(57.976715999999996+168.3682j)),\n",
      "     QuadraticBezier(start=(57.976715999999996+168.3682j), control=(56.691928999999995+168.3682j), end=(55.407143+167.61332j)),\n",
      "     QuadraticBezier(start=(55.407143+167.61332j), control=(54.122355999999996+166.66974j), end=(52.654028+165.16j)),\n",
      "     QuadraticBezier(start=(52.654028+165.16j), control=(51.1857+163.65026j), end=(50.635078+162.70667j)),\n",
      "     QuadraticBezier(start=(50.635078+162.70667j), control=(50.451537+162.51796000000002j), end=(50.267996+161.76309j)),\n",
      "     QuadraticBezier(start=(50.267996+161.76309j), control=(52.654028+162.14052j), end=(55.590683999999996+162.32924j)),\n",
      "     QuadraticBezier(start=(55.590683999999996+162.32924j), control=(58.527339+162.51796j), end=(60.72982999999999+162.51796j)),\n",
      "     Line(start=(60.72982999999999+162.51796j), end=(99.64051599999999+162.32924j)),\n",
      "     Line(start=(99.64051599999999+162.32924j), end=(99.82405599999998+119.11293j)),\n",
      "     Line(start=(99.82405599999998+119.11293j), end=(56.324848+119.11293j)),\n",
      "     QuadraticBezier(start=(56.324848+119.11293j), control=(56.324848+122.50985j), end=(44.211145+141.94775j)),\n",
      "     QuadraticBezier(start=(44.211145+141.94775j), control=(32.097441+161.19693j), end=(29.160786+161.19693j)),\n",
      "     Line(start=(29.160786+161.19693j), end=(28.793704+160.8195j)),\n",
      "     Line(start=(28.793704+160.8195j), end=(29.344326000000002+159.30976j)),\n",
      "     QuadraticBezier(start=(29.344326000000002+159.30976j), control=(37.60367+144.96723j), end=(44.761767000000006+124.39702000000001j)),\n",
      "     QuadraticBezier(start=(44.761767000000006+124.39702000000001j), control=(53.021111000000005+100.80734000000001j), end=(53.021111000000005+87.40839500000001j)),\n",
      "     QuadraticBezier(start=(53.021111000000005+87.40839500000001j), control=(53.021111000000005+83.06789200000001j), end=(52.837569+81.36943500000001j)),\n",
      "     QuadraticBezier(start=(52.837569+81.36943500000001j), control=(52.837569+80.992j), end=(52.470487+80.04841300000001j)),\n",
      "     QuadraticBezier(start=(52.470487+80.04841300000001j), control=(55.223601+80.04841300000001j), end=(63.666486+83.256611j)),\n",
      "     QuadraticBezier(start=(63.666486+83.256611j), control=(72.292911+86.46480700000001j), end=(72.292911+88.5407j)),\n",
      "     QuadraticBezier(start=(72.292911+88.5407j), control=(72.292911+89.861723j), end=(69.17271500000001+91.748897j)),\n",
      "     QuadraticBezier(start=(69.17271500000001+91.748897j), control=(66.052518+93.447355j), end=(65.86897800000001+94.390942j)),\n",
      "     QuadraticBezier(start=(65.86897800000001+94.390942j), control=(65.86897800000001+95.523247j), end=(63.66648600000001+101.18477j)),\n",
      "     QuadraticBezier(start=(63.66648600000001+101.18477j), control=(60.91337100000001+107.78989j), end=(58.343798000000014+114.395j)),\n",
      "     Line(start=(58.343798000000014+114.395j), end=(99.824056+114.395j)),\n",
      "     Line(start=(99.824056+114.395j), end=(100.0076+87.78583j)),\n",
      "     QuadraticBezier(start=(100.0076+87.78583j), control=(100.0076+84.95506800000001j), end=(100.0076+82.879175j)),\n",
      "     QuadraticBezier(start=(100.0076+82.879175j), control=(100.0076+80.80328300000001j), end=(100.0076+79.670978j)),\n",
      "     QuadraticBezier(start=(100.0076+79.670978j), control=(100.0076+76.840216j), end=(100.0076+73.820735j)),\n",
      "     QuadraticBezier(start=(100.0076+73.820735j), control=(99.64051599999999+70.612538j), end=(99.64051599999999+69.480233j)),\n",
      "     QuadraticBezier(start=(99.64051599999999+69.480233j), control=(98.906347+63.629991j), end=(98.35572799999998+61.554097999999996j)),\n",
      "     QuadraticBezier(start=(98.35572799999998+61.554097999999996j), control=(97.98864799999998+59.289488999999996j), end=(97.62155899999999+57.968466j)),\n",
      "     QuadraticBezier(start=(97.62155899999999+57.968466j), control=(101.29238+57.968466j), end=(110.65297+60.421794j)),\n",
      "     QuadraticBezier(start=(110.65297+60.421794j), control=(120.01356+62.875121j), end=(120.01356+65.139731j)),\n",
      "     QuadraticBezier(start=(120.01356+65.139731j), control=(120.01356+66.64947099999999j), end=(115.60857+69.480233j)),\n",
      "     QuadraticBezier(start=(115.60857+69.480233j), control=(111.20359+72.31099499999999j), end=(111.20359+73.44330099999999j)),\n",
      "     Line(start=(111.20359+73.44330099999999j), end=(111.20359+114.395j)),\n",
      "     Line(start=(111.20359+114.395j), end=(152.31677000000002+114.395j)),\n",
      "     Line(start=(152.31677000000002+114.395j), end=(159.29133000000002+105.33655999999999j)),\n",
      "     QuadraticBezier(start=(159.29133000000002+105.33655999999999j), control=(165.71526000000003+108.54475j), end=(168.10129+110.05448999999999j)),\n",
      "     QuadraticBezier(start=(168.10129+110.05448999999999j), control=(175.25938+114.20627999999999j), end=(175.25938+116.28217j)),\n",
      "     QuadraticBezier(start=(175.25938+116.28217j), control=(175.25938+118.16933999999999j), end=(171.22149+118.73549999999999j)),\n",
      "     QuadraticBezier(start=(171.22149+118.73549999999999j), control=(167.18358999999998+119.11292999999999j), end=(165.71526+119.11292999999999j)),\n",
      "     Line(start=(165.71526+119.11292999999999j), end=(111.20358999999999+119.11292999999999j)),\n",
      "     Line(start=(111.20358999999999+119.11292999999999j), end=(111.20358999999999+162.32924j)),\n",
      "     Line(start=(111.20358999999999+162.32924j), end=(143.87387999999999+162.32924j)),\n",
      "     Line(start=(143.87387999999999+162.32924j), end=(151.39906+153.2708j)),\n",
      "     QuadraticBezier(start=(151.39906+153.2708j), control=(153.05093+153.2708j), end=(159.84195+157.6113j)),\n",
      "     QuadraticBezier(start=(159.84195+157.6113j), control=(166.63297+161.76309j), end=(166.63297+163.83898j)),\n",
      "     QuadraticBezier(start=(166.63297+163.83898j), control=(166.63297+165.34872j), end=(164.61401+166.29231j)),\n",
      "     QuadraticBezier(start=(164.61401+166.29231j), control=(162.59506000000002+167.04718j), end=(159.29133000000002+167.04718j)),\n",
      "     Line(start=(159.29133000000002+167.04718j), end=(111.20359000000002+167.04718j)),\n",
      "     Line(start=(111.20359000000002+167.04718j), end=(111.20359000000002+216.30244j)),\n",
      "     Line(start=(111.20359000000002+216.30244j), end=(167.36713000000003+216.30244j)),\n",
      "     Line(start=(167.36713000000003+216.30244j), end=(175.07584000000003+206.48914j)),\n",
      "     QuadraticBezier(start=(175.07584000000003+206.48914j), control=(176.72771000000003+206.48914j), end=(184.06935000000004+211.20707j)),\n",
      "     QuadraticBezier(start=(184.06935000000004+211.20707j), control=(191.59453000000005+215.92501j), end=(191.59453000000005+217.81217999999998j)),\n",
      "     Line(start=(191.59453000000005+217.81217999999998j), end=(191.59453+217.81218j)))\n",
      "pathlength is:  inf\n"
     ]
    }
   ],
   "source": [
    "# 生\n",
    "path_to_file = 'A.svg'\n",
    "#path_to_file = 'Asheng.svg'\n",
    "\n",
    "path,_=svgpathtools.svg2paths(path_to_file)\n",
    "path = path[0]\n",
    "print(path)\n",
    "\n",
    "points=np.linspace(0,1,10,endpoint=True)\n",
    "pathvals=np.zeros_like(points,dtype=\"complex\")\n",
    "\n",
    "pathlength=path.length()\n",
    "print(\"pathlength is: \",pathlength)\n"
   ]
  },
  {
   "cell_type": "code",
   "execution_count": 29,
   "metadata": {},
   "outputs": [
    {
     "data": {
      "text/plain": [
       "array([0.        , 0.11111111, 0.22222222, 0.33333333, 0.44444444,\n",
       "       0.55555556, 0.66666667, 0.77777778, 0.88888889, 1.        ])"
      ]
     },
     "execution_count": 29,
     "metadata": {},
     "output_type": "execute_result"
    }
   ],
   "source": [
    "points"
   ]
  },
  {
   "cell_type": "code",
   "execution_count": 21,
   "metadata": {},
   "outputs": [
    {
     "data": {
      "text/plain": [
       "array([0.+0.j, 0.+0.j, 0.+0.j, 0.+0.j, 0.+0.j, 0.+0.j, 0.+0.j, 0.+0.j,\n",
       "       0.+0.j, 0.+0.j])"
      ]
     },
     "execution_count": 21,
     "metadata": {},
     "output_type": "execute_result"
    }
   ],
   "source": [
    "pathvals"
   ]
  },
  {
   "cell_type": "code",
   "execution_count": 30,
   "metadata": {},
   "outputs": [
    {
     "data": {
      "text/plain": [
       "array([1.-2.j, 3.-4.j, 5.-6.j])"
      ]
     },
     "execution_count": 30,
     "metadata": {},
     "output_type": "execute_result"
    }
   ],
   "source": [
    "com_list = [1+2j, 3+4j, 5+6j]\n",
    "np.conj(com_list)"
   ]
  },
  {
   "cell_type": "code",
   "execution_count": 36,
   "metadata": {},
   "outputs": [
    {
     "data": {
      "text/plain": [
       "[0, 1, -1, 2, -2, 3, -3, 4, -4, 5, -5]"
      ]
     },
     "execution_count": 36,
     "metadata": {},
     "output_type": "execute_result"
    }
   ],
   "source": [
    "nvec = 11\n",
    "coefs=list(range(nvec // 2, -nvec// 2, -1))\n",
    "coefs.sort(key=abs)\n",
    "coefs"
   ]
  },
  {
   "cell_type": "code",
   "execution_count": 37,
   "metadata": {},
   "outputs": [
    {
     "data": {
      "text/plain": [
       "array([ 0,  1, -1,  2, -2,  3, -3,  4, -4,  5, -5])"
      ]
     },
     "execution_count": 37,
     "metadata": {},
     "output_type": "execute_result"
    }
   ],
   "source": [
    "np.array(coefs)"
   ]
  },
  {
   "cell_type": "code",
   "execution_count": 35,
   "metadata": {},
   "outputs": [
    {
     "name": "stdout",
     "output_type": "stream",
     "text": [
      "7.5\n"
     ]
    }
   ],
   "source": [
    "import numpy as np\n",
    "\n",
    "# 示例数据\n",
    "y = np.array([1, 2, 3, 4])\n",
    "x = np.array([0, 1, 2, 3])\n",
    "\n",
    "# 使用 np.trapz 计算积分\n",
    "integral = np.trapz(y, x)\n",
    "\n",
    "print(integral)\n"
   ]
  },
  {
   "cell_type": "code",
   "execution_count": null,
   "metadata": {},
   "outputs": [],
   "source": []
  }
 ],
 "metadata": {
  "kernelspec": {
   "display_name": "manim_latest",
   "language": "python",
   "name": "python3"
  },
  "language_info": {
   "codemirror_mode": {
    "name": "ipython",
    "version": 3
   },
   "file_extension": ".py",
   "mimetype": "text/x-python",
   "name": "python",
   "nbconvert_exporter": "python",
   "pygments_lexer": "ipython3",
   "version": "3.9.16"
  }
 },
 "nbformat": 4,
 "nbformat_minor": 2
}
