{
 "cells": [
  {
   "cell_type": "code",
   "execution_count": 5,
   "metadata": {},
   "outputs": [],
   "source": [
    "import svgpathtools\n",
    "import numpy as np"
   ]
  },
  {
   "cell_type": "code",
   "execution_count": 2,
   "metadata": {},
   "outputs": [],
   "source": [
    "path_to_file = 'A.svg'\n",
    "path,_=svgpathtools.svg2paths(path_to_file)"
   ]
  },
  {
   "cell_type": "code",
   "execution_count": 3,
   "metadata": {},
   "outputs": [
    {
     "data": {
      "text/plain": [
       "[Path(Line(start=(62.868614+46.826283j), end=(151.31825+46.826283j)),\n",
       "      Line(start=(151.31825+46.826283j), end=(151.31825+109.69489j)),\n",
       "      Line(start=(151.31825+109.69489j), end=(62.868614+109.69489j)),\n",
       "      Line(start=(62.868614+109.69489j), end=(62.868614+46.826283j)))]"
      ]
     },
     "execution_count": 3,
     "metadata": {},
     "output_type": "execute_result"
    }
   ],
   "source": [
    "path"
   ]
  },
  {
   "cell_type": "code",
   "execution_count": 23,
   "metadata": {},
   "outputs": [
    {
     "data": {
      "text/plain": [
       "Path(Line(start=(62.868614+46.826283j), end=(151.31825+46.826283j)),\n",
       "     Line(start=(151.31825+46.826283j), end=(151.31825+109.69489j)),\n",
       "     Line(start=(151.31825+109.69489j), end=(62.868614+109.69489j)),\n",
       "     Line(start=(62.868614+109.69489j), end=(62.868614+46.826283j)))"
      ]
     },
     "execution_count": 23,
     "metadata": {},
     "output_type": "execute_result"
    }
   ],
   "source": [
    "path[0]"
   ]
  },
  {
   "cell_type": "code",
   "execution_count": 27,
   "metadata": {},
   "outputs": [
    {
     "data": {
      "text/plain": [
       "302.636486"
      ]
     },
     "execution_count": 27,
     "metadata": {},
     "output_type": "execute_result"
    }
   ],
   "source": [
    "((151.31825-62.868614)+(109.69489-46.826283))*2"
   ]
  },
  {
   "cell_type": "code",
   "execution_count": 24,
   "metadata": {},
   "outputs": [
    {
     "data": {
      "text/plain": [
       "302.636486"
      ]
     },
     "execution_count": 24,
     "metadata": {},
     "output_type": "execute_result"
    }
   ],
   "source": [
    "path[0].length()"
   ]
  },
  {
   "cell_type": "code",
   "execution_count": 40,
   "metadata": {},
   "outputs": [
    {
     "data": {
      "text/plain": [
       "array([ 62.868614   -46.826283j  ,  96.49489022 -46.826283j  ,\n",
       "       130.12116644 -46.826283j  , 151.31825    -59.25547567j,\n",
       "       151.31825    -92.88175189j, 134.50511189-109.69489j   ,\n",
       "       100.87883567-109.69489j   ,  67.25255944-109.69489j   ,\n",
       "        62.868614   -80.45255922j,  62.868614   -46.826283j  ])"
      ]
     },
     "execution_count": 40,
     "metadata": {},
     "output_type": "execute_result"
    }
   ],
   "source": [
    "path_to_file = 'A.svg'\n",
    "path,_=svgpathtools.svg2paths(path_to_file)\n",
    "path = path[0]\n",
    "\n",
    "points=np.linspace(0,1,10,endpoint=True)\n",
    "pathvals=np.zeros_like(points,dtype=\"complex\")\n",
    "\n",
    "pathlength=path.length()\n",
    "for i in range(len(points)):\n",
    "    \"\"\"\n",
    "    先获取路径物理长度的百分比所对应的长度\n",
    "    然后再获取该百分比长度对应的百分比\n",
    "    \"\"\"\n",
    "    pathvals[i]=path.point(path.ilength(pathlength*points[i]))\n",
    "    \n",
    "pathvals=np.conj(pathvals).copy()\n",
    "pathvals"
   ]
  },
  {
   "cell_type": "code",
   "execution_count": 29,
   "metadata": {},
   "outputs": [
    {
     "data": {
      "text/plain": [
       "array([0.        , 0.11111111, 0.22222222, 0.33333333, 0.44444444,\n",
       "       0.55555556, 0.66666667, 0.77777778, 0.88888889, 1.        ])"
      ]
     },
     "execution_count": 29,
     "metadata": {},
     "output_type": "execute_result"
    }
   ],
   "source": [
    "points"
   ]
  },
  {
   "cell_type": "code",
   "execution_count": 21,
   "metadata": {},
   "outputs": [
    {
     "data": {
      "text/plain": [
       "array([0.+0.j, 0.+0.j, 0.+0.j, 0.+0.j, 0.+0.j, 0.+0.j, 0.+0.j, 0.+0.j,\n",
       "       0.+0.j, 0.+0.j])"
      ]
     },
     "execution_count": 21,
     "metadata": {},
     "output_type": "execute_result"
    }
   ],
   "source": [
    "pathvals"
   ]
  },
  {
   "cell_type": "code",
   "execution_count": 30,
   "metadata": {},
   "outputs": [
    {
     "data": {
      "text/plain": [
       "array([1.-2.j, 3.-4.j, 5.-6.j])"
      ]
     },
     "execution_count": 30,
     "metadata": {},
     "output_type": "execute_result"
    }
   ],
   "source": [
    "com_list = [1+2j, 3+4j, 5+6j]\n",
    "np.conj(com_list)"
   ]
  },
  {
   "cell_type": "code",
   "execution_count": 36,
   "metadata": {},
   "outputs": [
    {
     "data": {
      "text/plain": [
       "[0, 1, -1, 2, -2, 3, -3, 4, -4, 5, -5]"
      ]
     },
     "execution_count": 36,
     "metadata": {},
     "output_type": "execute_result"
    }
   ],
   "source": [
    "nvec = 11\n",
    "coefs=list(range(nvec // 2, -nvec// 2, -1))\n",
    "coefs.sort(key=abs)\n",
    "coefs"
   ]
  },
  {
   "cell_type": "code",
   "execution_count": 37,
   "metadata": {},
   "outputs": [
    {
     "data": {
      "text/plain": [
       "array([ 0,  1, -1,  2, -2,  3, -3,  4, -4,  5, -5])"
      ]
     },
     "execution_count": 37,
     "metadata": {},
     "output_type": "execute_result"
    }
   ],
   "source": [
    "np.array(coefs)"
   ]
  },
  {
   "cell_type": "code",
   "execution_count": 35,
   "metadata": {},
   "outputs": [
    {
     "name": "stdout",
     "output_type": "stream",
     "text": [
      "7.5\n"
     ]
    }
   ],
   "source": [
    "import numpy as np\n",
    "\n",
    "# 示例数据\n",
    "y = np.array([1, 2, 3, 4])\n",
    "x = np.array([0, 1, 2, 3])\n",
    "\n",
    "# 使用 np.trapz 计算积分\n",
    "integral = np.trapz(y, x)\n",
    "\n",
    "print(integral)\n"
   ]
  },
  {
   "cell_type": "code",
   "execution_count": null,
   "metadata": {},
   "outputs": [],
   "source": []
  }
 ],
 "metadata": {
  "kernelspec": {
   "display_name": "manim_latest",
   "language": "python",
   "name": "python3"
  },
  "language_info": {
   "codemirror_mode": {
    "name": "ipython",
    "version": 3
   },
   "file_extension": ".py",
   "mimetype": "text/x-python",
   "name": "python",
   "nbconvert_exporter": "python",
   "pygments_lexer": "ipython3",
   "version": "3.9.16"
  }
 },
 "nbformat": 4,
 "nbformat_minor": 2
}
