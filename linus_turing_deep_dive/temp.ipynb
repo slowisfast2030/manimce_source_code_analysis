{
 "cells": [
  {
   "cell_type": "code",
   "execution_count": 1,
   "metadata": {},
   "outputs": [
    {
     "data": {
      "text/html": [
       "<pre style=\"white-space:pre;overflow-x:auto;line-height:normal;font-family:Menlo,'DejaVu Sans Mono',consolas,'Courier New',monospace\">Manim Community <span style=\"color: #008000; text-decoration-color: #008000\">v0.17.3</span>\n",
       "\n",
       "</pre>\n"
      ],
      "text/plain": [
       "Manim Community \u001b[32mv0.\u001b[0m\u001b[32m17.3\u001b[0m\n",
       "\n"
      ]
     },
     "metadata": {},
     "output_type": "display_data"
    }
   ],
   "source": [
    "from manim import *"
   ]
  },
  {
   "cell_type": "code",
   "execution_count": 9,
   "metadata": {},
   "outputs": [
    {
     "name": "stderr",
     "output_type": "stream",
     "text": [
      "                                                                                   \r"
     ]
    },
    {
     "data": {
      "text/html": [
       "<video src=\"media/jupyter/CircleAndSquare@2023-06-14@10-21-25.mp4\" controls autoplay loop style=\"max-width: 60%;\"  >\n",
       "      Your browser does not support the <code>video</code> element.\n",
       "    </video>"
      ],
      "text/plain": [
       "<IPython.core.display.Video object>"
      ]
     },
     "metadata": {},
     "output_type": "display_data"
    }
   ],
   "source": [
    "%%manim -v WARNING --disable_caching -qm CircleAndSquare\n",
    "\n",
    "\n",
    "class CircleAndSquare(Scene):\n",
    "    def construct(self):\n",
    "        circle = Circle(color=RED, radius=1)\n",
    "        square = Square(color=BLUE, side_length=2)\n",
    "        circle.shift(LEFT*3)\n",
    "        square.shift(RIGHT*3)\n",
    "        self.add(circle, square)\n",
    "\n",
    "        # Set the square as the target for the circle\n",
    "        circle.target = square\n",
    "\n",
    "        # Create the animation\n",
    "        self.play(MoveToTarget(circle))\n"
   ]
  },
  {
   "cell_type": "code",
   "execution_count": 10,
   "metadata": {},
   "outputs": [
    {
     "name": "stderr",
     "output_type": "stream",
     "text": [
      "                                                                                   \r"
     ]
    },
    {
     "data": {
      "text/html": [
       "<video src=\"media/jupyter/MoveToTargetExample@2023-06-14@10-26-23.mp4\" controls autoplay loop style=\"max-width: 60%;\"  >\n",
       "      Your browser does not support the <code>video</code> element.\n",
       "    </video>"
      ],
      "text/plain": [
       "<IPython.core.display.Video object>"
      ]
     },
     "metadata": {},
     "output_type": "display_data"
    }
   ],
   "source": [
    "%%manim -v WARNING --disable_caching -qm MoveToTargetExample\n",
    "\n",
    "\"\"\"Transforms a mobject to the mobject stored in its ``target`` attribute.\n",
    "\n",
    "    After calling the :meth:`~.Mobject.generate_target` method, the :attr:`target`\n",
    "    attribute of the mobject is populated with a copy of it. After modifying the attribute,\n",
    "    playing the :class:`.MoveToTarget` animation transforms the original mobject\n",
    "    into the modified one stored in the :attr:`target` attribute.\n",
    "\"\"\"\n",
    "\n",
    "class MoveToTargetExample(Scene):\n",
    "            def construct(self):\n",
    "                c = Circle()\n",
    "\n",
    "                c.generate_target()\n",
    "                c.target.set_fill(color=GREEN, opacity=0.5)\n",
    "                c.target.shift(2*RIGHT + UP).scale(0.5)\n",
    "\n",
    "                self.add(c)\n",
    "                self.play(MoveToTarget(c))"
   ]
  },
  {
   "cell_type": "code",
   "execution_count": 2,
   "metadata": {},
   "outputs": [
    {
     "name": "stdout",
     "output_type": "stream",
     "text": [
      "None\n",
      "[-1.38777878e-16 -1.48029737e-16  0.00000000e+00]\n"
     ]
    },
    {
     "name": "stderr",
     "output_type": "stream",
     "text": [
      "                                                                                    \r"
     ]
    },
    {
     "name": "stdout",
     "output_type": "stream",
     "text": [
      "None\n",
      "[-1.38777878e-16  2.00000000e+00  0.00000000e+00]\n"
     ]
    },
    {
     "data": {
      "text/html": [
       "<video src=\"media/jupyter/PointHashExample@2023-06-14@10-15-52.mp4\" controls autoplay loop style=\"max-width: 60%;\"  >\n",
       "      Your browser does not support the <code>video</code> element.\n",
       "    </video>"
      ],
      "text/plain": [
       "<IPython.core.display.Video object>"
      ]
     },
     "metadata": {},
     "output_type": "display_data"
    }
   ],
   "source": [
    "%%manim -v WARNING --disable_caching -qm PointHashExample\n",
    "\n",
    "class PointHashExample(Scene):\n",
    "    def construct(self):\n",
    "        triangle = Triangle(color=YELLOW)\n",
    "        self.add(triangle)\n",
    "        self.wait(1)\n",
    "        print(triangle.point_hash) # print the point_hash of the triangle\n",
    "        print(triangle.get_center_of_mass()) # print the center of mass of the triangle\n",
    "        self.wait(1)\n",
    "        triangle.shift(UP) # shift the triangle up by one unit\n",
    "        self.play(ApplyMethod(triangle.shift, UP))\n",
    "        self.wait(1)\n",
    "        print(triangle.point_hash) # print the new point_hash of the triangle\n",
    "        print(triangle.get_center_of_mass()) # print the new center of mass of the triangle\n",
    "        self.wait(1)\n"
   ]
  },
  {
   "cell_type": "code",
   "execution_count": 13,
   "metadata": {},
   "outputs": [
    {
     "ename": "AttributeError",
     "evalue": "CustomSquare object has no attribute 'FadeIn'",
     "output_type": "error",
     "traceback": [
      "\u001b[0;31m---------------------------------------------------------------------------\u001b[0m",
      "\u001b[0;31mAttributeError\u001b[0m                            Traceback (most recent call last)",
      "Cell \u001b[0;32mIn[13], line 1\u001b[0m\n\u001b[0;32m----> 1\u001b[0m get_ipython()\u001b[39m.\u001b[39;49mrun_cell_magic(\u001b[39m'\u001b[39;49m\u001b[39mmanim\u001b[39;49m\u001b[39m'\u001b[39;49m, \u001b[39m'\u001b[39;49m\u001b[39m-v WARNING --disable_caching -qm CustomScene\u001b[39;49m\u001b[39m'\u001b[39;49m, \u001b[39m'\u001b[39;49m\u001b[39m\\n\u001b[39;49;00m\u001b[39mclass CustomSquare(Square):\u001b[39;49m\u001b[39m\\n\u001b[39;49;00m\u001b[39m    @override_animation(FadeIn)\u001b[39;49m\u001b[39m\\n\u001b[39;49;00m\u001b[39m    def fade_in_override(self, **kwargs):\u001b[39;49m\u001b[39m\\n\u001b[39;49;00m\u001b[39m        return Create(self, **kwargs)\u001b[39;49m\u001b[39m\\n\u001b[39;49;00m\u001b[39m\\n\u001b[39;49;00m\u001b[39mclass CustomScene(Scene):\u001b[39;49m\u001b[39m\\n\u001b[39;49;00m\u001b[39m    def construct(self):\u001b[39;49m\u001b[39m\\n\u001b[39;49;00m\u001b[39m        square = CustomSquare()\u001b[39;49m\u001b[39m\\n\u001b[39;49;00m\u001b[39m        self.play(square.FadeIn())\u001b[39;49m\u001b[39m\\n\u001b[39;49;00m\u001b[39m        self.wait()\u001b[39;49m\u001b[39m\\n\u001b[39;49;00m\u001b[39m'\u001b[39;49m)\n",
      "File \u001b[0;32m/opt/anaconda3/envs/manim_latest/lib/python3.9/site-packages/IPython/core/interactiveshell.py:2478\u001b[0m, in \u001b[0;36mInteractiveShell.run_cell_magic\u001b[0;34m(self, magic_name, line, cell)\u001b[0m\n\u001b[1;32m   2476\u001b[0m \u001b[39mwith\u001b[39;00m \u001b[39mself\u001b[39m\u001b[39m.\u001b[39mbuiltin_trap:\n\u001b[1;32m   2477\u001b[0m     args \u001b[39m=\u001b[39m (magic_arg_s, cell)\n\u001b[0;32m-> 2478\u001b[0m     result \u001b[39m=\u001b[39m fn(\u001b[39m*\u001b[39;49margs, \u001b[39m*\u001b[39;49m\u001b[39m*\u001b[39;49mkwargs)\n\u001b[1;32m   2480\u001b[0m \u001b[39m# The code below prevents the output from being displayed\u001b[39;00m\n\u001b[1;32m   2481\u001b[0m \u001b[39m# when using magics with decodator @output_can_be_silenced\u001b[39;00m\n\u001b[1;32m   2482\u001b[0m \u001b[39m# when the last Python token in the expression is a ';'.\u001b[39;00m\n\u001b[1;32m   2483\u001b[0m \u001b[39mif\u001b[39;00m \u001b[39mgetattr\u001b[39m(fn, magic\u001b[39m.\u001b[39mMAGIC_OUTPUT_CAN_BE_SILENCED, \u001b[39mFalse\u001b[39;00m):\n",
      "File \u001b[0;32m/opt/anaconda3/envs/manim_latest/lib/python3.9/site-packages/manim/utils/ipython_magic.py:141\u001b[0m, in \u001b[0;36mManimMagic.manim\u001b[0;34m(self, line, cell, local_ns)\u001b[0m\n\u001b[1;32m    139\u001b[0m     SceneClass \u001b[39m=\u001b[39m local_ns[config[\u001b[39m\"\u001b[39m\u001b[39mscene_names\u001b[39m\u001b[39m\"\u001b[39m][\u001b[39m0\u001b[39m]]\n\u001b[1;32m    140\u001b[0m     scene \u001b[39m=\u001b[39m SceneClass(renderer\u001b[39m=\u001b[39mrenderer)\n\u001b[0;32m--> 141\u001b[0m     scene\u001b[39m.\u001b[39;49mrender()\n\u001b[1;32m    142\u001b[0m \u001b[39mfinally\u001b[39;00m:\n\u001b[1;32m    143\u001b[0m     \u001b[39m# Shader cache becomes invalid as the context is destroyed\u001b[39;00m\n\u001b[1;32m    144\u001b[0m     shader_program_cache\u001b[39m.\u001b[39mclear()\n",
      "File \u001b[0;32m/opt/anaconda3/envs/manim_latest/lib/python3.9/site-packages/manim/scene/scene.py:223\u001b[0m, in \u001b[0;36mScene.render\u001b[0;34m(self, preview)\u001b[0m\n\u001b[1;32m    221\u001b[0m \u001b[39mself\u001b[39m\u001b[39m.\u001b[39msetup()\n\u001b[1;32m    222\u001b[0m \u001b[39mtry\u001b[39;00m:\n\u001b[0;32m--> 223\u001b[0m     \u001b[39mself\u001b[39;49m\u001b[39m.\u001b[39;49mconstruct()\n\u001b[1;32m    224\u001b[0m \u001b[39mexcept\u001b[39;00m EndSceneEarlyException:\n\u001b[1;32m    225\u001b[0m     \u001b[39mpass\u001b[39;00m\n",
      "File \u001b[0;32m<string>:10\u001b[0m, in \u001b[0;36mconstruct\u001b[0;34m(self)\u001b[0m\n",
      "File \u001b[0;32m/opt/anaconda3/envs/manim_latest/lib/python3.9/site-packages/manim/mobject/mobject.py:662\u001b[0m, in \u001b[0;36mMobject.__getattr__\u001b[0;34m(self, attr)\u001b[0m\n\u001b[1;32m    659\u001b[0m     \u001b[39mreturn\u001b[39;00m types\u001b[39m.\u001b[39mMethodType(setter, \u001b[39mself\u001b[39m)\n\u001b[1;32m    661\u001b[0m \u001b[39m# Unhandled attribute, therefore error\u001b[39;00m\n\u001b[0;32m--> 662\u001b[0m \u001b[39mraise\u001b[39;00m \u001b[39mAttributeError\u001b[39;00m(\u001b[39mf\u001b[39m\u001b[39m\"\u001b[39m\u001b[39m{\u001b[39;00m\u001b[39mtype\u001b[39m(\u001b[39mself\u001b[39m)\u001b[39m.\u001b[39m\u001b[39m__name__\u001b[39m\u001b[39m}\u001b[39;00m\u001b[39m object has no attribute \u001b[39m\u001b[39m'\u001b[39m\u001b[39m{\u001b[39;00mattr\u001b[39m}\u001b[39;00m\u001b[39m'\u001b[39m\u001b[39m\"\u001b[39m)\n",
      "\u001b[0;31mAttributeError\u001b[0m: CustomSquare object has no attribute 'FadeIn'"
     ]
    }
   ],
   "source": [
    "%%manim -v WARNING --disable_caching -qm CustomScene\n",
    "\n",
    "class CustomSquare(Square):\n",
    "    @override_animation(FadeIn)\n",
    "    def fade_in_override(self, **kwargs):\n",
    "        return Create(self, **kwargs)\n",
    "\n",
    "class CustomScene(Scene):\n",
    "    def construct(self):\n",
    "        square = CustomSquare()\n",
    "        self.play(square.FadeIn())\n",
    "        self.wait()"
   ]
  },
  {
   "cell_type": "code",
   "execution_count": null,
   "metadata": {},
   "outputs": [],
   "source": []
  }
 ],
 "metadata": {
  "kernelspec": {
   "display_name": "manim",
   "language": "python",
   "name": "python3"
  },
  "language_info": {
   "codemirror_mode": {
    "name": "ipython",
    "version": 3
   },
   "file_extension": ".py",
   "mimetype": "text/x-python",
   "name": "python",
   "nbconvert_exporter": "python",
   "pygments_lexer": "ipython3",
   "version": "3.9.16"
  },
  "orig_nbformat": 4
 },
 "nbformat": 4,
 "nbformat_minor": 2
}
