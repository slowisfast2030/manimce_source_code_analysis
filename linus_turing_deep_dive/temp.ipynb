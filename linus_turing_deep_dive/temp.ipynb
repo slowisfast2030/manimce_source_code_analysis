{
 "cells": [
  {
   "cell_type": "code",
   "execution_count": 1,
   "metadata": {},
   "outputs": [
    {
     "data": {
      "text/html": [
       "<pre style=\"white-space:pre;overflow-x:auto;line-height:normal;font-family:Menlo,'DejaVu Sans Mono',consolas,'Courier New',monospace\">Manim Community <span style=\"color: #008000; text-decoration-color: #008000\">v0.17.3</span>\n",
       "\n",
       "</pre>\n"
      ],
      "text/plain": [
       "Manim Community \u001b[32mv0.\u001b[0m\u001b[32m17.3\u001b[0m\n",
       "\n"
      ]
     },
     "metadata": {},
     "output_type": "display_data"
    }
   ],
   "source": [
    "from manim import *"
   ]
  },
  {
   "cell_type": "code",
   "execution_count": 9,
   "metadata": {},
   "outputs": [
    {
     "name": "stderr",
     "output_type": "stream",
     "text": [
      "                                                                                   \r"
     ]
    },
    {
     "data": {
      "text/html": [
       "<video src=\"media/jupyter/CircleAndSquare@2023-06-14@10-21-25.mp4\" controls autoplay loop style=\"max-width: 60%;\"  >\n",
       "      Your browser does not support the <code>video</code> element.\n",
       "    </video>"
      ],
      "text/plain": [
       "<IPython.core.display.Video object>"
      ]
     },
     "metadata": {},
     "output_type": "display_data"
    }
   ],
   "source": [
    "%%manim -v WARNING --disable_caching -qm CircleAndSquare\n",
    "\n",
    "\n",
    "class CircleAndSquare(Scene):\n",
    "    def construct(self):\n",
    "        circle = Circle(color=RED, radius=1)\n",
    "        square = Square(color=BLUE, side_length=2)\n",
    "        circle.shift(LEFT*3)\n",
    "        square.shift(RIGHT*3)\n",
    "        self.add(circle, square)\n",
    "\n",
    "        # Set the square as the target for the circle\n",
    "        circle.target = square\n",
    "\n",
    "        # Create the animation\n",
    "        self.play(MoveToTarget(circle))\n"
   ]
  },
  {
   "cell_type": "code",
   "execution_count": 10,
   "metadata": {},
   "outputs": [
    {
     "name": "stderr",
     "output_type": "stream",
     "text": [
      "                                                                                   \r"
     ]
    },
    {
     "data": {
      "text/html": [
       "<video src=\"media/jupyter/MoveToTargetExample@2023-06-14@10-26-23.mp4\" controls autoplay loop style=\"max-width: 60%;\"  >\n",
       "      Your browser does not support the <code>video</code> element.\n",
       "    </video>"
      ],
      "text/plain": [
       "<IPython.core.display.Video object>"
      ]
     },
     "metadata": {},
     "output_type": "display_data"
    }
   ],
   "source": [
    "%%manim -v WARNING --disable_caching -qm MoveToTargetExample\n",
    "\n",
    "\"\"\"Transforms a mobject to the mobject stored in its ``target`` attribute.\n",
    "\n",
    "    After calling the :meth:`~.Mobject.generate_target` method, the :attr:`target`\n",
    "    attribute of the mobject is populated with a copy of it. After modifying the attribute,\n",
    "    playing the :class:`.MoveToTarget` animation transforms the original mobject\n",
    "    into the modified one stored in the :attr:`target` attribute.\n",
    "\"\"\"\n",
    "\n",
    "class MoveToTargetExample(Scene):\n",
    "            def construct(self):\n",
    "                c = Circle()\n",
    "\n",
    "                c.generate_target()\n",
    "                c.target.set_fill(color=GREEN, opacity=0.5)\n",
    "                c.target.shift(2*RIGHT + UP).scale(0.5)\n",
    "\n",
    "                self.add(c)\n",
    "                self.play(MoveToTarget(c))"
   ]
  },
  {
   "cell_type": "code",
   "execution_count": 4,
   "metadata": {},
   "outputs": [
    {
     "name": "stdout",
     "output_type": "stream",
     "text": [
      "linus animation starts\n"
     ]
    },
    {
     "name": "stderr",
     "output_type": "stream",
     "text": [
      "                                                                                           "
     ]
    },
    {
     "name": "stdout",
     "output_type": "stream",
     "text": [
      "linus animation ends\n"
     ]
    },
    {
     "name": "stderr",
     "output_type": "stream",
     "text": [
      "\r"
     ]
    },
    {
     "data": {
      "text/html": [
       "<video src=\"media/jupyter/MorphExample@2023-06-14@10-11-00.mp4\" controls autoplay loop style=\"max-width: 60%;\"  >\n",
       "      Your browser does not support the <code>video</code> element.\n",
       "    </video>"
      ],
      "text/plain": [
       "<IPython.core.display.Video object>"
      ]
     },
     "metadata": {},
     "output_type": "display_data"
    }
   ],
   "source": [
    "%%manim -v WARNING --disable_caching -pqm MorphExample\n",
    "\n",
    "class MorphExample(Scene):\n",
    "    def construct(self):\n",
    "        circle = Circle(color=BLUE)\n",
    "        square = Square(color=RED)\n",
    "        self.add(circle)\n",
    "        self.wait(1)\n",
    "        circle.target = square # set the target of the circle to be the square\n",
    "        self.play(ApplyComplexFunction(lambda z: z**2, circle)) # apply a complex function to the circle that makes it morph into the square\n",
    "        self.wait(1)\n"
   ]
  },
  {
   "cell_type": "code",
   "execution_count": 2,
   "metadata": {},
   "outputs": [
    {
     "name": "stdout",
     "output_type": "stream",
     "text": [
      "None\n",
      "[-1.38777878e-16 -1.48029737e-16  0.00000000e+00]\n"
     ]
    },
    {
     "name": "stderr",
     "output_type": "stream",
     "text": [
      "                                                                                    \r"
     ]
    },
    {
     "name": "stdout",
     "output_type": "stream",
     "text": [
      "None\n",
      "[-1.38777878e-16  2.00000000e+00  0.00000000e+00]\n"
     ]
    },
    {
     "data": {
      "text/html": [
       "<video src=\"media/jupyter/PointHashExample@2023-06-14@10-15-52.mp4\" controls autoplay loop style=\"max-width: 60%;\"  >\n",
       "      Your browser does not support the <code>video</code> element.\n",
       "    </video>"
      ],
      "text/plain": [
       "<IPython.core.display.Video object>"
      ]
     },
     "metadata": {},
     "output_type": "display_data"
    }
   ],
   "source": [
    "%%manim -v WARNING --disable_caching -qm PointHashExample\n",
    "\n",
    "class PointHashExample(Scene):\n",
    "    def construct(self):\n",
    "        triangle = Triangle(color=YELLOW)\n",
    "        self.add(triangle)\n",
    "        self.wait(1)\n",
    "        print(triangle.point_hash) # print the point_hash of the triangle\n",
    "        print(triangle.get_center_of_mass()) # print the center of mass of the triangle\n",
    "        self.wait(1)\n",
    "        triangle.shift(UP) # shift the triangle up by one unit\n",
    "        self.play(ApplyMethod(triangle.shift, UP))\n",
    "        self.wait(1)\n",
    "        print(triangle.point_hash) # print the new point_hash of the triangle\n",
    "        print(triangle.get_center_of_mass()) # print the new center of mass of the triangle\n",
    "        self.wait(1)\n"
   ]
  }
 ],
 "metadata": {
  "kernelspec": {
   "display_name": "manim",
   "language": "python",
   "name": "python3"
  },
  "language_info": {
   "codemirror_mode": {
    "name": "ipython",
    "version": 3
   },
   "file_extension": ".py",
   "mimetype": "text/x-python",
   "name": "python",
   "nbconvert_exporter": "python",
   "pygments_lexer": "ipython3",
   "version": "3.9.16"
  },
  "orig_nbformat": 4
 },
 "nbformat": 4,
 "nbformat_minor": 2
}
