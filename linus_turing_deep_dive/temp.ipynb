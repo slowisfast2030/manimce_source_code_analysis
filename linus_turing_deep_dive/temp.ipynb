{
 "cells": [
  {
   "cell_type": "code",
   "execution_count": 1,
   "metadata": {},
   "outputs": [
    {
     "data": {
      "text/html": [
       "<pre style=\"white-space:pre;overflow-x:auto;line-height:normal;font-family:Menlo,'DejaVu Sans Mono',consolas,'Courier New',monospace\">Manim Community <span style=\"color: #008000; text-decoration-color: #008000\">v0.17.3</span>\n",
       "\n",
       "</pre>\n"
      ],
      "text/plain": [
       "Manim Community \u001b[32mv0.\u001b[0m\u001b[32m17.3\u001b[0m\n",
       "\n"
      ]
     },
     "metadata": {},
     "output_type": "display_data"
    }
   ],
   "source": [
    "from manim import *"
   ]
  },
  {
   "cell_type": "code",
   "execution_count": 2,
   "metadata": {},
   "outputs": [
    {
     "name": "stderr",
     "output_type": "stream",
     "text": [
      "                                                                                 \r"
     ]
    },
    {
     "data": {
      "text/html": [
       "<video src=\"media/jupyter/CircleAndSquare@2023-06-14@11-50-40.mp4\" controls autoplay loop style=\"max-width: 60%;\"  >\n",
       "      Your browser does not support the <code>video</code> element.\n",
       "    </video>"
      ],
      "text/plain": [
       "<IPython.core.display.Video object>"
      ]
     },
     "metadata": {},
     "output_type": "display_data"
    }
   ],
   "source": [
    "%%manim -v WARNING --disable_caching -qm CircleAndSquare\n",
    "\n",
    "\n",
    "class CircleAndSquare(Scene):\n",
    "    def construct(self):\n",
    "        circle = Circle(color=RED, radius=1)\n",
    "        square = Square(color=BLUE, side_length=2)\n",
    "        circle.shift(LEFT*3)\n",
    "        square.shift(RIGHT*3)\n",
    "        self.add(circle, square)\n",
    "\n",
    "        # Set the square as the target for the circle\n",
    "        circle.target = square\n",
    "\n",
    "        # Create the animation\n",
    "        self.play(MoveToTarget(circle))\n"
   ]
  },
  {
   "cell_type": "code",
   "execution_count": 10,
   "metadata": {},
   "outputs": [
    {
     "name": "stderr",
     "output_type": "stream",
     "text": [
      "                                                                                   \r"
     ]
    },
    {
     "data": {
      "text/html": [
       "<video src=\"media/jupyter/MoveToTargetExample@2023-06-14@10-26-23.mp4\" controls autoplay loop style=\"max-width: 60%;\"  >\n",
       "      Your browser does not support the <code>video</code> element.\n",
       "    </video>"
      ],
      "text/plain": [
       "<IPython.core.display.Video object>"
      ]
     },
     "metadata": {},
     "output_type": "display_data"
    }
   ],
   "source": [
    "%%manim -v WARNING --disable_caching -qm MoveToTargetExample\n",
    "\n",
    "\"\"\"Transforms a mobject to the mobject stored in its ``target`` attribute.\n",
    "\n",
    "    After calling the :meth:`~.Mobject.generate_target` method, the :attr:`target`\n",
    "    attribute of the mobject is populated with a copy of it. After modifying the attribute,\n",
    "    playing the :class:`.MoveToTarget` animation transforms the original mobject\n",
    "    into the modified one stored in the :attr:`target` attribute.\n",
    "\"\"\"\n",
    "\n",
    "class MoveToTargetExample(Scene):\n",
    "            def construct(self):\n",
    "                c = Circle()\n",
    "\n",
    "                c.generate_target()\n",
    "                c.target.set_fill(color=GREEN, opacity=0.5)\n",
    "                c.target.shift(2*RIGHT + UP).scale(0.5)\n",
    "\n",
    "                self.add(c)\n",
    "                self.play(MoveToTarget(c))"
   ]
  },
  {
   "cell_type": "code",
   "execution_count": 2,
   "metadata": {},
   "outputs": [
    {
     "name": "stdout",
     "output_type": "stream",
     "text": [
      "None\n",
      "[-1.38777878e-16 -1.48029737e-16  0.00000000e+00]\n"
     ]
    },
    {
     "name": "stderr",
     "output_type": "stream",
     "text": [
      "                                                                                    \r"
     ]
    },
    {
     "name": "stdout",
     "output_type": "stream",
     "text": [
      "None\n",
      "[-1.38777878e-16  2.00000000e+00  0.00000000e+00]\n"
     ]
    },
    {
     "data": {
      "text/html": [
       "<video src=\"media/jupyter/PointHashExample@2023-06-14@10-15-52.mp4\" controls autoplay loop style=\"max-width: 60%;\"  >\n",
       "      Your browser does not support the <code>video</code> element.\n",
       "    </video>"
      ],
      "text/plain": [
       "<IPython.core.display.Video object>"
      ]
     },
     "metadata": {},
     "output_type": "display_data"
    }
   ],
   "source": [
    "%%manim -v WARNING --disable_caching -qm PointHashExample\n",
    "\n",
    "class PointHashExample(Scene):\n",
    "    def construct(self):\n",
    "        triangle = Triangle(color=YELLOW)\n",
    "        self.add(triangle)\n",
    "        self.wait(1)\n",
    "        print(triangle.point_hash) # print the point_hash of the triangle\n",
    "        print(triangle.get_center_of_mass()) # print the center of mass of the triangle\n",
    "        self.wait(1)\n",
    "        triangle.shift(UP) # shift the triangle up by one unit\n",
    "        self.play(ApplyMethod(triangle.shift, UP))\n",
    "        self.wait(1)\n",
    "        print(triangle.point_hash) # print the new point_hash of the triangle\n",
    "        print(triangle.get_center_of_mass()) # print the new center of mass of the triangle\n",
    "        self.wait(1)\n"
   ]
  },
  {
   "cell_type": "code",
   "execution_count": 5,
   "metadata": {},
   "outputs": [
    {
     "name": "stderr",
     "output_type": "stream",
     "text": [
      "                                                                                 \r"
     ]
    },
    {
     "data": {
      "text/html": [
       "<video src=\"media/jupyter/CustomScene@2023-06-14@11-53-39.mp4\" controls autoplay loop style=\"max-width: 60%;\"  >\n",
       "      Your browser does not support the <code>video</code> element.\n",
       "    </video>"
      ],
      "text/plain": [
       "<IPython.core.display.Video object>"
      ]
     },
     "metadata": {},
     "output_type": "display_data"
    }
   ],
   "source": [
    "%%manim -v WARNING --disable_caching -qm CustomScene\n",
    "\n",
    "class CustomSquare(Square):\n",
    "    @override_animation(FadeIn)\n",
    "    def fade_in_override(self, **kwargs):\n",
    "        return Create(self, **kwargs)\n",
    "\n",
    "class CustomScene(Scene):\n",
    "    def construct(self):\n",
    "        square = CustomSquare()\n",
    "        self.play(FadeIn(square))\n",
    "        self.wait()"
   ]
  },
  {
   "cell_type": "code",
   "execution_count": 1,
   "metadata": {},
   "outputs": [
    {
     "name": "stdout",
     "output_type": "stream",
     "text": [
      "name = John\n",
      "age = 30\n",
      "city = New York\n"
     ]
    }
   ],
   "source": [
    "def my_function(**kwargs):\n",
    "    for key, value in kwargs.items():\n",
    "        print(f\"{key} = {value}\")\n",
    "\n",
    "my_function(name=\"John\", age=30, city=\"New York\")"
   ]
  },
  {
   "cell_type": "code",
   "execution_count": 2,
   "metadata": {},
   "outputs": [
    {
     "name": "stdout",
     "output_type": "stream",
     "text": [
      "John\n",
      "30\n",
      "New York\n",
      "name = Jane\n",
      "age = 25\n",
      "city = Los Angeles\n"
     ]
    }
   ],
   "source": [
    "def my_function(*args, **kwargs):\n",
    "    for arg in args:\n",
    "        print(arg)\n",
    "    for key, value in kwargs.items():\n",
    "        print(f\"{key} = {value}\")\n",
    "\n",
    "my_function(\"John\", 30, \"New York\", name=\"Jane\", age=25, city=\"Los Angeles\")"
   ]
  },
  {
   "cell_type": "code",
   "execution_count": 1,
   "metadata": {},
   "outputs": [
    {
     "data": {
      "text/html": [
       "<pre style=\"white-space:pre;overflow-x:auto;line-height:normal;font-family:Menlo,'DejaVu Sans Mono',consolas,'Courier New',monospace\">Manim Community <span style=\"color: #008000; text-decoration-color: #008000\">v0.17.3</span>\n",
       "\n",
       "</pre>\n"
      ],
      "text/plain": [
       "Manim Community \u001b[32mv0.\u001b[0m\u001b[32m17.3\u001b[0m\n",
       "\n"
      ]
     },
     "metadata": {},
     "output_type": "display_data"
    }
   ],
   "source": [
    "from manim import *"
   ]
  },
  {
   "cell_type": "code",
   "execution_count": 3,
   "metadata": {},
   "outputs": [
    {
     "data": {
      "image/png": "[encoded data removed]",
      "text/plain": [
       "<IPython.core.display.Image object>"
      ]
     },
     "metadata": {},
     "output_type": "display_data"
    }
   ],
   "source": [
    "%%manim -v WARNING --disable_caching -qh VMobjectDemo\n",
    "\n",
    "class VMobjectDemo(Scene):\n",
    "    def construct(self):\n",
    "        plane = NumberPlane()\n",
    "        my_vmobject = VMobject(color=GREEN)\n",
    "        my_vmobject.points = [\n",
    "            np.array([-2, -1, 0]),  # start of first curve\n",
    "            np.array([-3, 1, 0]),\n",
    "            np.array([0, 3, 0]),\n",
    "            np.array([1, 3, 0]),  # end of first curve\n",
    "            np.array([1, 3, 0]),  # start of second curve\n",
    "            np.array([0, 1, 0]),\n",
    "            np.array([4, 3, 0]),\n",
    "            np.array([4, -2, 0]),  # end of second curve\n",
    "        ]\n",
    "        handles = [\n",
    "            Dot(point, color=RED) for point in\n",
    "            [[-3, 1, 0], [0, 3, 0], [0, 1, 0], [4, 3, 0]]\n",
    "        ]\n",
    "        handle_lines = [\n",
    "            Line(\n",
    "                my_vmobject.points[ind],\n",
    "                my_vmobject.points[ind+1],\n",
    "                color=RED,\n",
    "                stroke_width=2\n",
    "            ) for ind in range(0, len(my_vmobject.points), 2)\n",
    "        ]\n",
    "        self.add(plane, *handles, *handle_lines, my_vmobject)"
   ]
  },
  {
   "cell_type": "code",
   "execution_count": 2,
   "metadata": {},
   "outputs": [
    {
     "data": {
      "text/html": [
       "<pre style=\"white-space:pre;overflow-x:auto;line-height:normal;font-family:Menlo,'DejaVu Sans Mono',consolas,'Courier New',monospace\">Manim Community <span style=\"color: #008000; text-decoration-color: #008000\">v0.17.3</span>\n",
       "\n",
       "</pre>\n"
      ],
      "text/plain": [
       "Manim Community \u001b[32mv0.\u001b[0m\u001b[32m17.3\u001b[0m\n",
       "\n"
      ]
     },
     "metadata": {},
     "output_type": "display_data"
    }
   ],
   "source": [
    "from manim import *"
   ]
  },
  {
   "cell_type": "code",
   "execution_count": 7,
   "metadata": {},
   "outputs": [
    {
     "name": "stdout",
     "output_type": "stream",
     "text": [
      "[[ 1.          1.          0.        ]\n",
      " [ 0.33333333  1.          0.        ]\n",
      " [-0.33333333  1.          0.        ]\n",
      " [-1.          1.          0.        ]\n",
      " [-1.          1.          0.        ]\n",
      " [-1.          0.33333333  0.        ]\n",
      " [-1.         -0.33333333  0.        ]\n",
      " [-1.         -1.          0.        ]\n",
      " [-1.         -1.          0.        ]\n",
      " [-0.33333333 -1.          0.        ]\n",
      " [ 0.33333333 -1.          0.        ]\n",
      " [ 1.         -1.          0.        ]\n",
      " [ 1.         -1.          0.        ]\n",
      " [ 1.         -0.33333333  0.        ]\n",
      " [ 1.          0.33333333  0.        ]\n",
      " [ 1.          1.          0.        ]]\n",
      "16\n"
     ]
    },
    {
     "name": "stderr",
     "output_type": "stream",
     "text": [
      "<string>:6: DeprecationWarning: This method is not guaranteed to stay around. Please prefer getting the attribute normally.\n"
     ]
    },
    {
     "data": {
      "image/png": "[encoded data removed]",
      "text/plain": [
       "<IPython.core.display.Image object>"
      ]
     },
     "metadata": {},
     "output_type": "display_data"
    }
   ],
   "source": [
    "%%manim -v WARNING --disable_caching -qm CircleAndSquare\n",
    "\n",
    "\n",
    "class CircleAndSquare(Scene):\n",
    "    def construct(self):\n",
    "        square = Square(color=RED)\n",
    "        points = square.get_points()\n",
    "        print(points)\n",
    "        print(len(points))\n",
    "        self.add(square)\n"
   ]
  }
 ],
 "metadata": {
  "kernelspec": {
   "display_name": "manim",
   "language": "python",
   "name": "python3"
  },
  "language_info": {
   "codemirror_mode": {
    "name": "ipython",
    "version": 3
   },
   "file_extension": ".py",
   "mimetype": "text/x-python",
   "name": "python",
   "nbconvert_exporter": "python",
   "pygments_lexer": "ipython3",
   "version": "3.9.16"
  },
  "orig_nbformat": 4
 },
 "nbformat": 4,
 "nbformat_minor": 2
}
