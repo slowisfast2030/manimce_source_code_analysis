{
 "cells": [
  {
   "cell_type": "code",
   "execution_count": 1,
   "metadata": {},
   "outputs": [
    {
     "name": "stdout",
     "output_type": "stream",
     "text": [
      "library_wide: /opt/anaconda3/envs/manim/lib/python3.9/site-packages/manim/_config/default.cfg\n",
      "user_wide: /Users/linus/.config/manim/manim.cfg\n",
      "folder_wide: manim.cfg\n",
      "\n",
      "config:\n",
      " assets_dir: ./, background_color: black, background_opacity: 1.0, custom_folders: False, disable_caching: False, disable_caching_warning: False, dry_run: None, enable_gui: False, enable_wireframe: False, ffmpeg_executable: ffmpeg, ffmpeg_loglevel: ERROR, flush_cache: False, force_window: False, format: None, frame_height: 8.0, frame_rate: 60.0, frame_width: 14.222222222222221, frame_x_radius: None, frame_y_radius: None, from_animation_number: 0, fullscreen: False, gui_location: (0, 0), images_dir: {media_dir}/images/{module_name}, input_file: , log_dir: {media_dir}/logs, log_to_file: False, max_files_cached: 100, media_dir: ./media, media_embed: None, media_width: 60%, movie_file_extension: .mp4, notify_outdated_version: True, output_file: , partial_movie_dir: {video_dir}/partial_movie_files/{scene_name}, pixel_height: 1080, pixel_width: 1920, plugins: [''], preview: False, progress_bar: display, quality: None, renderer: cairo, save_as_gif: False, save_last_frame: False, save_pngs: False, save_sections: False, scene_names: None, sections_dir: {video_dir}/sections, show_in_file_browser: False, tex_dir: {media_dir}/Tex, tex_template_file: None, text_dir: {media_dir}/texts, upto_animation_number: inf, use_opengl_renderer: False, use_projection_fill_shaders: False, use_projection_stroke_shaders: False, verbosity: INFO, video_dir: {media_dir}/videos/{module_name}/{quality}, window_monitor: 0, window_position: UR, window_size: default, write_all: False, write_to_movie: True, zero_pad: 4, \n",
      "\n",
      "frame:\n",
      " <manim._config.utils.ManimFrame object at 0x10ce40a60>\n"
     ]
    },
    {
     "data": {
      "text/html": [
       "<pre style=\"white-space:pre;overflow-x:auto;line-height:normal;font-family:Menlo,'DejaVu Sans Mono',consolas,'Courier New',monospace\">Manim Community <span style=\"color: #008000; text-decoration-color: #008000\">v0.16.0.post0</span>\n",
       "\n",
       "</pre>\n"
      ],
      "text/plain": [
       "Manim Community \u001b[32mv0.\u001b[0m\u001b[32m16.0\u001b[0m\u001b[32m.post0\u001b[0m\n",
       "\n"
      ]
     },
     "metadata": {},
     "output_type": "display_data"
    }
   ],
   "source": [
    "from manim import *"
   ]
  },
  {
   "cell_type": "code",
   "execution_count": 6,
   "metadata": {},
   "outputs": [
    {
     "name": "stdout",
     "output_type": "stream",
     "text": [
      "linus animation starts\n"
     ]
    },
    {
     "name": "stderr",
     "output_type": "stream",
     "text": [
      "Animation 0: GrowFromCenter(Circle):   0%|          | 0/15 [00:00<?, ?it/s]"
     ]
    },
    {
     "name": "stderr",
     "output_type": "stream",
     "text": [
      "                                                                           "
     ]
    },
    {
     "name": "stdout",
     "output_type": "stream",
     "text": [
      "linus animation ends\n"
     ]
    },
    {
     "name": "stderr",
     "output_type": "stream",
     "text": [
      "\r"
     ]
    },
    {
     "data": {
      "text/html": [
       "<video src=\"media/jupyter/MyScene@2023-06-13@21-13-53.mp4\" controls autoplay loop style=\"max-width: 60%;\"  >\n",
       "      Your browser does not support the <code>video</code> element.\n",
       "    </video>"
      ],
      "text/plain": [
       "<IPython.core.display.Video object>"
      ]
     },
     "metadata": {},
     "output_type": "display_data"
    }
   ],
   "source": [
    "%%manim -v WARNING --disable_caching -pql MyScene\n",
    "\n",
    "Mobject.animation_overrides[\"GrowFromCenter\"] = {\"run_time\": 3}\n",
    "\n",
    "class MyScene(Scene):\n",
    "    def construct(self):\n",
    "        circle = Circle()\n",
    "        self.play(GrowFromCenter(circle))\n"
   ]
  },
  {
   "cell_type": "code",
   "execution_count": null,
   "metadata": {},
   "outputs": [],
   "source": []
  },
  {
   "cell_type": "code",
   "execution_count": null,
   "metadata": {},
   "outputs": [],
   "source": []
  }
 ],
 "metadata": {
  "kernelspec": {
   "display_name": "manim",
   "language": "python",
   "name": "python3"
  },
  "language_info": {
   "codemirror_mode": {
    "name": "ipython",
    "version": 3
   },
   "file_extension": ".py",
   "mimetype": "text/x-python",
   "name": "python",
   "nbconvert_exporter": "python",
   "pygments_lexer": "ipython3",
   "version": "3.9.13"
  },
  "orig_nbformat": 4
 },
 "nbformat": 4,
 "nbformat_minor": 2
}
